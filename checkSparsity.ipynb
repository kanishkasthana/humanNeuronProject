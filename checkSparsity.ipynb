{
 "cells": [
  {
   "cell_type": "markdown",
   "metadata": {},
   "source": [
    "Getting Expression Matrix. We will check the sparsity of this initial input matrix."
   ]
  },
  {
   "cell_type": "code",
   "execution_count": 1,
   "metadata": {
    "collapsed": false
   },
   "outputs": [
    {
     "name": "stdout",
     "output_type": "stream",
     "text": [
      "[1] 16242  3229\n",
      "[1] \"Duplicated Genes:\"\n",
      " [1] \"NBPF14\"       \"EFNA3\"        \"DCAF8\"        \"TFDP2\"        \"FAM47E-STBD1\"\n",
      " [6] \"AQP1\"         \"KDM4C\"        \"SYT15\"        \"PSMA1\"        \"ALG9\"        \n",
      "[11] \"SLCO1B3\"      \"PXMP2\"        \"ZNF268\"       \"NPIPA7\"       \"NPIPA7\"      \n",
      "[16] \"CLN3\"         \"ACE\"          \"GAA\"          \"SLC25A10\"     \"TMIGD2\"      \n",
      "[21] \"ZNF763\"       \"KLRD1\"        \"CBS\"          \"U2AF1\"        \"SUMO2\"       \n",
      "[26] \"RBM4B\"        \"IDS\"         \n",
      "[1] 16215  3229\n",
      "[1] 16215  3228\n",
      "[1]  3228 16215\n"
     ]
    }
   ],
   "source": [
    "expressionData=read.csv(\"hg-annoHeaderCorrection.csv\", header=TRUE, stringsAsFactors = FALSE)\n",
    "\n",
    "print(dim(expressionData))\n",
    "\n",
    "duplicatedGenesLogicalIndices=duplicated(expressionData$geneName)\n",
    "duplicatedGeneNames= expressionData$geneName[duplicatedGenesLogicalIndices]\n",
    "print(\"Duplicated Genes:\")\n",
    "print(duplicatedGeneNames)\n",
    "\n",
    "expressionData=expressionData[!duplicatedGenesLogicalIndices,]\n",
    "print(dim(expressionData))\n",
    "\n",
    "#Getting Expression Values for all Genes across all single cells.\n",
    "expressionValues=expressionData[,(2:ncol(expressionData))]\n",
    "\n",
    "#Removing NA values. Hopefully this will resolve the problems with the graph. Right now I am seeing values only \n",
    "#along the diagnal. This should hopefully fix that problem.\n",
    "expressionValues[is.na(expressionValues)]=0\n",
    "\n",
    "print(dim(expressionValues))\n",
    "\n",
    "expressionMatrix=as.matrix(t(expressionValues))\n",
    "print(dim(expressionMatrix))"
   ]
  },
  {
   "cell_type": "code",
   "execution_count": 2,
   "metadata": {
    "collapsed": false
   },
   "outputs": [
    {
     "data": {
      "text/html": [
       "52342020"
      ],
      "text/latex": [
       "52342020"
      ],
      "text/markdown": [
       "52342020"
      ],
      "text/plain": [
       "[1] 52342020"
      ]
     },
     "execution_count": 2,
     "metadata": {},
     "output_type": "execute_result"
    }
   ],
   "source": [
    "totalCells=nrow(expressionMatrix)*ncol(expressionMatrix)\n",
    "totalCells"
   ]
  },
  {
   "cell_type": "code",
   "execution_count": 3,
   "metadata": {
    "collapsed": false
   },
   "outputs": [
    {
     "data": {
      "text/html": [
       "23098738"
      ],
      "text/latex": [
       "23098738"
      ],
      "text/markdown": [
       "23098738"
      ],
      "text/plain": [
       "[1] 23098738"
      ]
     },
     "execution_count": 3,
     "metadata": {},
     "output_type": "execute_result"
    }
   ],
   "source": [
    "cellsWithValues=sum(expressionMatrix>0)\n",
    "cellsWithValues"
   ]
  },
  {
   "cell_type": "code",
   "execution_count": 4,
   "metadata": {
    "collapsed": false
   },
   "outputs": [
    {
     "data": {
      "text/html": [
       "0.441303908408579"
      ],
      "text/latex": [
       "0.441303908408579"
      ],
      "text/markdown": [
       "0.441303908408579"
      ],
      "text/plain": [
       "[1] 0.4413039"
      ]
     },
     "execution_count": 4,
     "metadata": {},
     "output_type": "execute_result"
    }
   ],
   "source": [
    "initialSparsity=cellsWithValues/totalCells\n",
    "initialSparsity"
   ]
  }
 ],
 "metadata": {
  "kernelspec": {
   "display_name": "R",
   "language": "R",
   "name": "ir"
  },
  "language_info": {
   "codemirror_mode": "r",
   "file_extension": ".r",
   "mimetype": "text/x-r-source",
   "name": "R",
   "pygments_lexer": "r",
   "version": "3.2.3"
  }
 },
 "nbformat": 4,
 "nbformat_minor": 0
}
