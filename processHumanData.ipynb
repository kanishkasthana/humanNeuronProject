{
 "cells": [
  {
   "cell_type": "markdown",
   "metadata": {},
   "source": [
    "Reading in all libraries"
   ]
  },
  {
   "cell_type": "code",
   "execution_count": 1,
   "metadata": {
    "collapsed": false,
    "scrolled": true
   },
   "outputs": [
    {
     "name": "stderr",
     "output_type": "stream",
     "text": [
      "Loading required package: Matrix\n",
      "Loading required package: lattice\n",
      "Loading required package: igraph\n",
      "\n",
      "Attaching package: ‘igraph’\n",
      "\n",
      "The following objects are masked from ‘package:stats’:\n",
      "\n",
      "    decompose, spectrum\n",
      "\n",
      "The following object is masked from ‘package:base’:\n",
      "\n",
      "    union\n",
      "\n",
      "Loading required package: MASS\n"
     ]
    }
   ],
   "source": [
    "library(\"huge\")"
   ]
  },
  {
   "cell_type": "markdown",
   "metadata": {},
   "source": [
    "Reading in Modified Data File"
   ]
  },
  {
   "cell_type": "code",
   "execution_count": 2,
   "metadata": {
    "collapsed": true
   },
   "outputs": [],
   "source": [
    "expressionData=read.csv(\"hg-annoHeaderCorrection.csv\", header=TRUE, stringsAsFactors = FALSE)"
   ]
  },
  {
   "cell_type": "markdown",
   "metadata": {},
   "source": [
    "Getting Dimensions of expressionData matrix before cleaning everything up"
   ]
  },
  {
   "cell_type": "code",
   "execution_count": 3,
   "metadata": {
    "collapsed": false
   },
   "outputs": [
    {
     "name": "stdout",
     "output_type": "stream",
     "text": [
      "[1] 16242  3229\n"
     ]
    }
   ],
   "source": [
    "print(dim(expressionData))"
   ]
  },
  {
   "cell_type": "markdown",
   "metadata": {},
   "source": [
    "Getting Duplicated Gene Entries"
   ]
  },
  {
   "cell_type": "code",
   "execution_count": 4,
   "metadata": {
    "collapsed": false
   },
   "outputs": [
    {
     "name": "stdout",
     "output_type": "stream",
     "text": [
      "[1] \"Duplicated Genes:\"\n",
      " [1] \"NBPF14\"       \"EFNA3\"        \"DCAF8\"        \"TFDP2\"        \"FAM47E-STBD1\"\n",
      " [6] \"AQP1\"         \"KDM4C\"        \"SYT15\"        \"PSMA1\"        \"ALG9\"        \n",
      "[11] \"SLCO1B3\"      \"PXMP2\"        \"ZNF268\"       \"NPIPA7\"       \"NPIPA7\"      \n",
      "[16] \"CLN3\"         \"ACE\"          \"GAA\"          \"SLC25A10\"     \"TMIGD2\"      \n",
      "[21] \"ZNF763\"       \"KLRD1\"        \"CBS\"          \"U2AF1\"        \"SUMO2\"       \n",
      "[26] \"RBM4B\"        \"IDS\"         \n"
     ]
    }
   ],
   "source": [
    "duplicatedGenesLogicalIndices=duplicated(expressionData$geneName)\n",
    "duplicatedGeneNames= expressionData$geneName[duplicatedGenesLogicalIndices]\n",
    "print(\"Duplicated Genes:\")\n",
    "print(duplicatedGeneNames)"
   ]
  },
  {
   "cell_type": "markdown",
   "metadata": {},
   "source": [
    "Removing the duplicated genes from the analysis. This should not affect the analysis very much."
   ]
  },
  {
   "cell_type": "code",
   "execution_count": 5,
   "metadata": {
    "collapsed": false
   },
   "outputs": [
    {
     "name": "stdout",
     "output_type": "stream",
     "text": [
      "[1] 16215  3229\n"
     ]
    }
   ],
   "source": [
    "expressionData=expressionData[!duplicatedGenesLogicalIndices,]\n",
    "print(dim(expressionData))"
   ]
  },
  {
   "cell_type": "code",
   "execution_count": 6,
   "metadata": {
    "collapsed": false
   },
   "outputs": [
    {
     "name": "stdout",
     "output_type": "stream",
     "text": [
      "[1] 16215  3228\n"
     ]
    }
   ],
   "source": [
    "#Getting Expression Values for all Genes across all single cells.\n",
    "expressionValues=expressionData[,(2:ncol(expressionData))]\n",
    "\n",
    "#Writing Genes for Later Use by the Java Program and possibly GO Term Analysis\n",
    "write.table(expressionData$geneName,\"geneNamesHuman.csv\",quote=FALSE, row.names=FALSE, col.names=FALSE)\n",
    "\n",
    "#Removing NA values. Hopefully this will resolve the problems with the graph. Right now I am seeing values only \n",
    "#along the diagnal. This should hopefully fix that problem.\n",
    "expressionValues[is.na(expressionValues)]=0\n",
    "\n",
    "print(dim(expressionValues))"
   ]
  },
  {
   "cell_type": "code",
   "execution_count": 7,
   "metadata": {
    "collapsed": false
   },
   "outputs": [
    {
     "name": "stdout",
     "output_type": "stream",
     "text": [
      "[1]  3228 16215\n"
     ]
    }
   ],
   "source": [
    "expressionMatrix=as.matrix(t(expressionValues))\n",
    "print(dim(expressionMatrix))"
   ]
  },
  {
   "cell_type": "code",
   "execution_count": 8,
   "metadata": {
    "collapsed": false
   },
   "outputs": [
    {
     "name": "stdout",
     "output_type": "stream",
     "text": [
      "[1]  3228 13261\n"
     ]
    }
   ],
   "source": [
    "allGeneNames=sapply(expressionData$geneName,toupper)\n",
    "colnames(expressionMatrix)=allGeneNames\n",
    "commonMouseAndHumanGenes=unlist(read.csv(\"commonMouseAndHumanGenes.txt\",header=FALSE))\n",
    "expressionMatrix=expressionMatrix[,commonMouseAndHumanGenes]\n",
    "print(dim(expressionMatrix))"
   ]
  },
  {
   "cell_type": "markdown",
   "metadata": {},
   "source": [
    "Randomly sampling 500 cells twice from expressionMatrix. The objective is to see if I get similar or idential graphs when I do this and take the intersection. This is kind of a sanity check to see if the result of the intersection with the human dataset makes sense."
   ]
  },
  {
   "cell_type": "code",
   "execution_count": 12,
   "metadata": {
    "collapsed": false
   },
   "outputs": [
    {
     "data": {
      "text/html": [
       "<ol class=list-inline>\n",
       "\t<li>2263</li>\n",
       "\t<li>2783</li>\n",
       "\t<li>1388</li>\n",
       "\t<li>765</li>\n",
       "\t<li>1682</li>\n",
       "\t<li>1734</li>\n",
       "</ol>\n"
      ],
      "text/latex": [
       "\\begin{enumerate*}\n",
       "\\item 2263\n",
       "\\item 2783\n",
       "\\item 1388\n",
       "\\item 765\n",
       "\\item 1682\n",
       "\\item 1734\n",
       "\\end{enumerate*}\n"
      ],
      "text/markdown": [
       "1. 2263\n",
       "2. 2783\n",
       "3. 1388\n",
       "4. 765\n",
       "5. 1682\n",
       "6. 1734\n",
       "\n",
       "\n"
      ],
      "text/plain": [
       "[1] 2263 2783 1388  765 1682 1734"
      ]
     },
     "execution_count": 12,
     "metadata": {},
     "output_type": "execute_result"
    },
    {
     "data": {
      "text/html": [
       "<ol class=list-inline>\n",
       "\t<li>967</li>\n",
       "\t<li>369</li>\n",
       "\t<li>512</li>\n",
       "\t<li>1274</li>\n",
       "\t<li>829</li>\n",
       "\t<li>2941</li>\n",
       "</ol>\n"
      ],
      "text/latex": [
       "\\begin{enumerate*}\n",
       "\\item 967\n",
       "\\item 369\n",
       "\\item 512\n",
       "\\item 1274\n",
       "\\item 829\n",
       "\\item 2941\n",
       "\\end{enumerate*}\n"
      ],
      "text/markdown": [
       "1. 967\n",
       "2. 369\n",
       "3. 512\n",
       "4. 1274\n",
       "5. 829\n",
       "6. 2941\n",
       "\n",
       "\n"
      ],
      "text/plain": [
       "[1]  967  369  512 1274  829 2941"
      ]
     },
     "execution_count": 12,
     "metadata": {},
     "output_type": "execute_result"
    },
    {
     "data": {
      "text/html": [
       "<ol class=list-inline>\n",
       "\t<li>500</li>\n",
       "\t<li>13261</li>\n",
       "</ol>\n"
      ],
      "text/latex": [
       "\\begin{enumerate*}\n",
       "\\item 500\n",
       "\\item 13261\n",
       "\\end{enumerate*}\n"
      ],
      "text/markdown": [
       "1. 500\n",
       "2. 13261\n",
       "\n",
       "\n"
      ],
      "text/plain": [
       "[1]   500 13261"
      ]
     },
     "execution_count": 12,
     "metadata": {},
     "output_type": "execute_result"
    },
    {
     "data": {
      "text/html": [
       "<ol class=list-inline>\n",
       "\t<li>500</li>\n",
       "\t<li>13261</li>\n",
       "</ol>\n"
      ],
      "text/latex": [
       "\\begin{enumerate*}\n",
       "\\item 500\n",
       "\\item 13261\n",
       "\\end{enumerate*}\n"
      ],
      "text/markdown": [
       "1. 500\n",
       "2. 13261\n",
       "\n",
       "\n"
      ],
      "text/plain": [
       "[1]   500 13261"
      ]
     },
     "execution_count": 12,
     "metadata": {},
     "output_type": "execute_result"
    }
   ],
   "source": [
    "randomCells1=sample(1:nrow(expressionMatrix),size = 500,replace=FALSE)\n",
    "print(head(randomCells1))\n",
    "randomCells2=sample(1:nrow(expressionMatrix),size = 500,replace=FALSE)\n",
    "print(head(randomCells2))\n",
    "randomCellsFromExpressionMatrix1=expressionMatrix[randomCells1,]\n",
    "print(dim(randomCellsFromExpressionMatrix1))\n",
    "randomCellsFromExpressionMatrix2=expressionMatrix[randomCells2,]\n",
    "print(dim(randomCellsFromExpressionMatrix2))"
   ]
  },
  {
   "cell_type": "code",
   "execution_count": 9,
   "metadata": {
    "collapsed": false
   },
   "outputs": [
    {
     "name": "stdout",
     "output_type": "stream",
     "text": [
      "[1] \"Everything except Graph model done\"\n",
      "Conducting the graphical lasso (glasso)....done.                                          \n",
      "[1] \"Done!\"\n"
     ]
    }
   ],
   "source": [
    "print(\"Everything except Graph model done\")\n",
    "\n",
    "graphModel1 = huge(randomCellsFromExpressionMatrix1, method=\"glasso\", lambda=c(0.055))\n",
    "graphModel2 = huge(randomCellsFromExpressionMatrix2, method=\"glasso\", lambda=c(0.055))\n",
    "\n",
    "print(\"Done!\")\n",
    "#######################################################################################################"
   ]
  },
  {
   "cell_type": "code",
   "execution_count": 11,
   "metadata": {
    "collapsed": false
   },
   "outputs": [
    {
     "name": "stdout",
     "output_type": "stream",
     "text": [
      "[1] 500 500\n"
     ]
    }
   ],
   "source": [
    "print(dim(graphModel1$icov[[1]]))\n",
    "print(dim(graphModel2$icov[[1]]))"
   ]
  },
  {
   "cell_type": "markdown",
   "metadata": {},
   "source": [
    "Getting Some Statistics on the Generated Graphs:"
   ]
  },
  {
   "cell_type": "code",
   "execution_count": null,
   "metadata": {
    "collapsed": true
   },
   "outputs": [],
   "source": [
    "output1=as.matrix(graphModel1$icov[[1]])\n",
    "colnames(output1)=colnames(expressionMatrix)\n",
    "\n",
    "output2=as.matrix(graphModel2$icov[[1]])\n",
    "colnames(output2)=colnames(expressionMatrix)\n",
    "\n",
    "#Getting Adjacency matrices and setting the diagnal to FALSE i.e. no self edges.\n",
    "logicalOutput1=(output1!=0)\n",
    "diag(logicalOutput1)=FALSE\n",
    "logicalOutput2=(output2!=0)\n",
    "diag(logicalOutput2)=FALSE\n",
    "pdf(\"Edge_Distribution_Statistics.pdf\")\n",
    "edgeDistribution1=apply(logicalOutput1,2,sum)\n",
    "hist(edgeDistribution1,100, main = \"Edge Distribution for First Random Sample of 500 Cells\")\n",
    "edgeDistribution2=apply(logicalOutput2,2,sum)\n",
    "hist(edgeDistribution2,100, main = \"Edge Distribution for Second Random Sample of 500 Cells\")\n",
    "\n",
    "#Getting Intersection of both outputs\n",
    "intersectofOutputs=((logicalOutput1+logicalOutput2)>1)\n",
    "diag(intersectofOutputs)=FALSE\n",
    "\n",
    "intersectEdgeDistribution=apply(intersectofOutputs,2,sum)\n",
    "hist(intersectEdgeDistribution,100, main = \"Edge Distribution for Intersect of Random Samples\")\n",
    "dev.off()"
   ]
  },
  {
   "cell_type": "markdown",
   "metadata": {},
   "source": [
    "Generating Sparsity Measurements for Each Adjacency Matrix generated in the previous cell."
   ]
  },
  {
   "cell_type": "code",
   "execution_count": null,
   "metadata": {
    "collapsed": true
   },
   "outputs": [],
   "source": [
    "sink(\"sparsityValues.txt\")\n",
    "print(\"Sparsity for Random Sample 1:\")\n",
    "sparsity1=sum(logicalOutput1)/(nrow(logicalOutput1)*ncol(logicalOutput1))\n",
    "print(sparsity1)\n",
    "print(\"Sparsity for Random Sample 2:\")\n",
    "sparsity2=sum(logicalOutput2)/(nrow(logicalOutput2)*ncol(logicalOutput2))\n",
    "print(sparsity2)\n",
    "print(\"Sparsity for Intersect of Random Samples:\")\n",
    "intersectSparsity=sum(intersectofOutputs)/(nrow(intersectofOutputs)*ncol(intersectofOutputs))\n",
    "print(intersectSparsity)"
   ]
  }
 ],
 "metadata": {
  "kernelspec": {
   "display_name": "R",
   "language": "R",
   "name": "ir"
  },
  "language_info": {
   "codemirror_mode": "r",
   "file_extension": ".r",
   "mimetype": "text/x-r-source",
   "name": "R",
   "pygments_lexer": "r",
   "version": "3.2.3"
  }
 },
 "nbformat": 4,
 "nbformat_minor": 0
}
