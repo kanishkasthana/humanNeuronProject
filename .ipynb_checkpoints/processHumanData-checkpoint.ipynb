{
 "cells": [
  {
   "cell_type": "markdown",
   "metadata": {},
   "source": [
    "Reading in all libraries"
   ]
  },
  {
   "cell_type": "code",
   "execution_count": 1,
   "metadata": {
    "collapsed": false,
    "scrolled": false
   },
   "outputs": [
    {
     "name": "stderr",
     "output_type": "stream",
     "text": [
      "Loading required package: Matrix\n",
      "Loading required package: lattice\n",
      "Loading required package: igraph\n",
      "\n",
      "Attaching package: ‘igraph’\n",
      "\n",
      "The following objects are masked from ‘package:stats’:\n",
      "\n",
      "    decompose, spectrum\n",
      "\n",
      "The following object is masked from ‘package:base’:\n",
      "\n",
      "    union\n",
      "\n",
      "Loading required package: MASS\n"
     ]
    }
   ],
   "source": [
    "library(\"huge\")"
   ]
  },
  {
   "cell_type": "markdown",
   "metadata": {},
   "source": [
    "Reading in Modified Data File"
   ]
  },
  {
   "cell_type": "code",
   "execution_count": 2,
   "metadata": {
    "collapsed": true
   },
   "outputs": [],
   "source": [
    "expressionData=read.csv(\"hg-annoHeaderCorrection.csv\", header=TRUE, stringsAsFactors = FALSE)"
   ]
  },
  {
   "cell_type": "markdown",
   "metadata": {},
   "source": [
    "Getting Dimensions of expressionData matrix before cleaning everything up"
   ]
  },
  {
   "cell_type": "code",
   "execution_count": 3,
   "metadata": {
    "collapsed": false
   },
   "outputs": [
    {
     "name": "stdout",
     "output_type": "stream",
     "text": [
      "[1] 16242  3229\n"
     ]
    }
   ],
   "source": [
    "print(dim(expressionData))"
   ]
  },
  {
   "cell_type": "markdown",
   "metadata": {},
   "source": [
    "Getting Duplicated Gene Entries"
   ]
  },
  {
   "cell_type": "code",
   "execution_count": 4,
   "metadata": {
    "collapsed": false
   },
   "outputs": [
    {
     "name": "stdout",
     "output_type": "stream",
     "text": [
      "[1] \"Duplicated Genes:\"\n",
      " [1] \"NBPF14\"       \"EFNA3\"        \"DCAF8\"        \"TFDP2\"        \"FAM47E-STBD1\"\n",
      " [6] \"AQP1\"         \"KDM4C\"        \"SYT15\"        \"PSMA1\"        \"ALG9\"        \n",
      "[11] \"SLCO1B3\"      \"PXMP2\"        \"ZNF268\"       \"NPIPA7\"       \"NPIPA7\"      \n",
      "[16] \"CLN3\"         \"ACE\"          \"GAA\"          \"SLC25A10\"     \"TMIGD2\"      \n",
      "[21] \"ZNF763\"       \"KLRD1\"        \"CBS\"          \"U2AF1\"        \"SUMO2\"       \n",
      "[26] \"RBM4B\"        \"IDS\"         \n"
     ]
    }
   ],
   "source": [
    "duplicatedGenesLogicalIndices=duplicated(expressionData$geneName)\n",
    "duplicatedGeneNames= expressionData$geneName[duplicatedGenesLogicalIndices]\n",
    "print(\"Duplicated Genes:\")\n",
    "print(duplicatedGeneNames)"
   ]
  },
  {
   "cell_type": "markdown",
   "metadata": {},
   "source": [
    "Removing the duplicated genes from the analysis. This should not affect the analysis very much."
   ]
  },
  {
   "cell_type": "code",
   "execution_count": 5,
   "metadata": {
    "collapsed": false
   },
   "outputs": [
    {
     "name": "stdout",
     "output_type": "stream",
     "text": [
      "[1] 16215  3229\n"
     ]
    }
   ],
   "source": [
    "expressionData=expressionData[!duplicatedGenesLogicalIndices,]\n",
    "print(dim(expressionData))"
   ]
  },
  {
   "cell_type": "code",
   "execution_count": 6,
   "metadata": {
    "collapsed": false
   },
   "outputs": [
    {
     "name": "stdout",
     "output_type": "stream",
     "text": [
      "[1] 16215  3228\n"
     ]
    }
   ],
   "source": [
    "#Getting Expression Values for all Genes across all single cells.\n",
    "expressionValues=expressionData[,(2:ncol(expressionData))]\n",
    "\n",
    "#Writing Genes for Later Use by the Java Program and possibly GO Term Analysis\n",
    "write.table(expressionData$geneName,\"geneNamesHuman.csv\",quote=FALSE, row.names=FALSE, col.names=FALSE)\n",
    "\n",
    "#Removing NA values. Hopefully this will resolve the problems with the graph. Right now I am seeing values only \n",
    "#along the diagnal. This should hopefully fix that problem.\n",
    "expressionValues[is.na(expressionValues)]=0\n",
    "\n",
    "print(dim(expressionValues))"
   ]
  },
  {
   "cell_type": "code",
   "execution_count": 7,
   "metadata": {
    "collapsed": false
   },
   "outputs": [
    {
     "name": "stdout",
     "output_type": "stream",
     "text": [
      "[1]  3228 16215\n"
     ]
    }
   ],
   "source": [
    "expressionMatrix=as.matrix(t(expressionValues))\n",
    "print(dim(expressionMatrix))"
   ]
  },
  {
   "cell_type": "code",
   "execution_count": 8,
   "metadata": {
    "collapsed": false
   },
   "outputs": [
    {
     "name": "stdout",
     "output_type": "stream",
     "text": [
      "[1]  3228 13261\n"
     ]
    }
   ],
   "source": [
    "allGeneNames=sapply(expressionData$geneName,toupper)\n",
    "colnames(expressionMatrix)=allGeneNames\n",
    "commonMouseAndHumanGenes=unlist(read.csv(\"commonMouseAndHumanGenes.txt\",header=FALSE))\n",
    "expressionMatrix=expressionMatrix[,commonMouseAndHumanGenes]\n",
    "print(dim(expressionMatrix))"
   ]
  },
  {
   "cell_type": "code",
   "execution_count": 9,
   "metadata": {
    "collapsed": true
   },
   "outputs": [],
   "source": [
    "#Reducing the set of genes even more to see what happens. This code is behaving in a very weird way. What am I doing wrong?\n",
    "randomGenes=sample(1:ncol(expressionMatrix),size=200,replace=FALSE)\n",
    "expressionMatrix=expressionMatrix[,randomGenes]"
   ]
  },
  {
   "cell_type": "markdown",
   "metadata": {},
   "source": [
    "Randomly sampling 500 cells twice from expressionMatrix. The objective is to see if I get similar or idential graphs when I do this and take the intersection. This is kind of a sanity check to see if the result of the intersection with the human dataset makes sense."
   ]
  },
  {
   "cell_type": "code",
   "execution_count": 10,
   "metadata": {
    "collapsed": false
   },
   "outputs": [
    {
     "name": "stdout",
     "output_type": "stream",
     "text": [
      "[1] 2397 2741  835 1352  697  190\n",
      "[1] 1993 3198 2486 2985 2015 2776\n",
      "[1] 1000 8000\n",
      "[1] 1000 8000\n"
     ]
    }
   ],
   "source": [
    "randomCells1=sample(1:nrow(expressionMatrix),size = 1000,replace=FALSE)\n",
    "print(head(randomCells1))\n",
    "randomCells2=sample(1:nrow(expressionMatrix),size = 1000,replace=FALSE)\n",
    "print(head(randomCells2))\n",
    "randomCellsFromExpressionMatrix1=expressionMatrix[randomCells1,]\n",
    "print(dim(randomCellsFromExpressionMatrix1))\n",
    "randomCellsFromExpressionMatrix2=expressionMatrix[randomCells2,]\n",
    "print(dim(randomCellsFromExpressionMatrix2))"
   ]
  },
  {
   "cell_type": "code",
   "execution_count": null,
   "metadata": {
    "collapsed": false
   },
   "outputs": [
    {
     "name": "stdout",
     "output_type": "stream",
     "text": [
      "[1] \"Everything except Graph model done\"\n"
     ]
    }
   ],
   "source": [
    "print(\"Everything except Graph model done\")\n",
    "\n",
    "graphModel1 = huge(randomCellsFromExpressionMatrix1, method=\"glasso\", lambda=c(0.055))\n",
    "output1=as.matrix(graphModel1$icov[[1]])\n",
    "colnames(output1)=colnames(expressionMatrix)\n",
    "write.table(output1,\"graph_outputForRandomSample1.csv\", sep=\",\", quote=FALSE, row.names = FALSE)\n",
    "print(\"Done First!\")\n",
    "\n",
    "graphModel2 = huge(randomCellsFromExpressionMatrix2, method=\"glasso\", lambda=c(0.055))\n",
    "output2=as.matrix(graphModel2$icov[[1]])\n",
    "colnames(output2)=colnames(expressionMatrix)\n",
    "write.table(output2,\"graph_outputForRandomSample2.csv\", sep=\",\", quote=FALSE, row.names = FALSE)\n",
    "\n",
    "print(\"Done Second!\")\n",
    "#######################################################################################################"
   ]
  },
  {
   "cell_type": "code",
   "execution_count": null,
   "metadata": {
    "collapsed": false
   },
   "outputs": [],
   "source": [
    "print(dim(graphModel1$icov[[1]]))\n",
    "print(dim(graphModel2$icov[[1]]))"
   ]
  },
  {
   "cell_type": "markdown",
   "metadata": {},
   "source": [
    "Getting Some Statistics on the Generated Graphs:"
   ]
  },
  {
   "cell_type": "code",
   "execution_count": null,
   "metadata": {
    "collapsed": false
   },
   "outputs": [],
   "source": [
    "#Getting Adjacency matrices and setting the diagnal to FALSE i.e. no self edges.\n",
    "logicalOutput1=(output1!=0)\n",
    "diag(logicalOutput1)=FALSE\n",
    "logicalOutput2=(output2!=0)\n",
    "diag(logicalOutput2)=FALSE\n",
    "pdf(\"Edge_Distribution_Statistics.pdf\")\n",
    "edgeDistribution1=apply(logicalOutput1,2,sum)\n",
    "hist(edgeDistribution1,100, main = \"Edge Distribution for First Random Sample\")\n",
    "edgeDistribution2=apply(logicalOutput2,2,sum)\n",
    "hist(edgeDistribution2,100, main = \"Edge Distribution for Second Random Sample\")\n",
    "\n",
    "#Getting Intersection of both outputs\n",
    "intersectofOutputs=((logicalOutput1+logicalOutput2)>1)\n",
    "diag(intersectofOutputs)=FALSE\n",
    "\n",
    "intersectEdgeDistribution=apply(intersectofOutputs,2,sum)\n",
    "hist(intersectEdgeDistribution,100, main = \"Edge Distribution for Intersect of Random Samples\")\n",
    "dev.off()"
   ]
  },
  {
   "cell_type": "markdown",
   "metadata": {},
   "source": [
    "Generating Sparsity Measurements for Each Adjacency Matrix generated in the previous cell."
   ]
  },
  {
   "cell_type": "code",
   "execution_count": null,
   "metadata": {
    "collapsed": false
   },
   "outputs": [],
   "source": [
    "#sink(\"sparsityValues.txt\")\n",
    "print(\"Sparsity for Random Sample 1:\")\n",
    "sparsity1=sum(logicalOutput1)/(nrow(logicalOutput1)*ncol(logicalOutput1))\n",
    "print(sparsity1)\n",
    "print(\"Sparsity for Random Sample 2:\")\n",
    "sparsity2=sum(logicalOutput2)/(nrow(logicalOutput2)*ncol(logicalOutput2))\n",
    "print(sparsity2)\n",
    "print(\"Sparsity for Intersect of Random Samples:\")\n",
    "intersectSparsity=sum(intersectofOutputs)/(nrow(intersectofOutputs)*ncol(intersectofOutputs))\n",
    "print(intersectSparsity)"
   ]
  },
  {
   "cell_type": "code",
   "execution_count": null,
   "metadata": {
    "collapsed": true
   },
   "outputs": [],
   "source": []
  }
 ],
 "metadata": {
  "kernelspec": {
   "display_name": "R",
   "language": "R",
   "name": "ir"
  },
  "language_info": {
   "codemirror_mode": "r",
   "file_extension": ".r",
   "mimetype": "text/x-r-source",
   "name": "R",
   "pygments_lexer": "r",
   "version": "3.2.3"
  }
 },
 "nbformat": 4,
 "nbformat_minor": 0
}
