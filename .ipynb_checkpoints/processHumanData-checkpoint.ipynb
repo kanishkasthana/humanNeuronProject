{
 "cells": [
  {
   "cell_type": "markdown",
   "metadata": {},
   "source": [
    "Reading in all libraries"
   ]
  },
  {
   "cell_type": "code",
   "execution_count": 1,
   "metadata": {
    "collapsed": false,
    "scrolled": true
   },
   "outputs": [
    {
     "name": "stderr",
     "output_type": "stream",
     "text": [
      "Loading required package: Matrix\n",
      "Loading required package: lattice\n",
      "Loading required package: igraph\n",
      "\n",
      "Attaching package: ‘igraph’\n",
      "\n",
      "The following objects are masked from ‘package:stats’:\n",
      "\n",
      "    decompose, spectrum\n",
      "\n",
      "The following object is masked from ‘package:base’:\n",
      "\n",
      "    union\n",
      "\n",
      "Loading required package: MASS\n"
     ]
    }
   ],
   "source": [
    "library(\"huge\")"
   ]
  },
  {
   "cell_type": "markdown",
   "metadata": {},
   "source": [
    "Reading in Modified Data File"
   ]
  },
  {
   "cell_type": "code",
   "execution_count": 2,
   "metadata": {
    "collapsed": true
   },
   "outputs": [],
   "source": [
    "expressionData=read.csv(\"hg-annoHeaderCorrection.csv\", header=TRUE, stringsAsFactors = FALSE)"
   ]
  },
  {
   "cell_type": "markdown",
   "metadata": {},
   "source": [
    "Getting Dimensions of expressionData matrix before cleaning everything up"
   ]
  },
  {
   "cell_type": "code",
   "execution_count": 3,
   "metadata": {
    "collapsed": false
   },
   "outputs": [
    {
     "name": "stdout",
     "output_type": "stream",
     "text": [
      "[1] 16242  3229\n"
     ]
    }
   ],
   "source": [
    "print(dim(expressionData))"
   ]
  },
  {
   "cell_type": "markdown",
   "metadata": {},
   "source": [
    "Getting Duplicated Gene Entries"
   ]
  },
  {
   "cell_type": "code",
   "execution_count": 4,
   "metadata": {
    "collapsed": false
   },
   "outputs": [
    {
     "name": "stdout",
     "output_type": "stream",
     "text": [
      "[1] \"Duplicated Genes:\"\n",
      " [1] \"NBPF14\"       \"EFNA3\"        \"DCAF8\"        \"TFDP2\"        \"FAM47E-STBD1\"\n",
      " [6] \"AQP1\"         \"KDM4C\"        \"SYT15\"        \"PSMA1\"        \"ALG9\"        \n",
      "[11] \"SLCO1B3\"      \"PXMP2\"        \"ZNF268\"       \"NPIPA7\"       \"NPIPA7\"      \n",
      "[16] \"CLN3\"         \"ACE\"          \"GAA\"          \"SLC25A10\"     \"TMIGD2\"      \n",
      "[21] \"ZNF763\"       \"KLRD1\"        \"CBS\"          \"U2AF1\"        \"SUMO2\"       \n",
      "[26] \"RBM4B\"        \"IDS\"         \n"
     ]
    }
   ],
   "source": [
    "duplicatedGenesLogicalIndices=duplicated(expressionData$geneName)\n",
    "duplicatedGeneNames= expressionData$geneName[duplicatedGenesLogicalIndices]\n",
    "print(\"Duplicated Genes:\")\n",
    "print(duplicatedGeneNames)"
   ]
  },
  {
   "cell_type": "markdown",
   "metadata": {},
   "source": [
    "Removing the duplicated genes from the analysis. This should not affect the analysis very much."
   ]
  },
  {
   "cell_type": "code",
   "execution_count": 5,
   "metadata": {
    "collapsed": false
   },
   "outputs": [
    {
     "name": "stdout",
     "output_type": "stream",
     "text": [
      "[1] 16215  3229\n"
     ]
    }
   ],
   "source": [
    "expressionData=expressionData[!duplicatedGenesLogicalIndices,]\n",
    "print(dim(expressionData))"
   ]
  },
  {
   "cell_type": "code",
   "execution_count": 6,
   "metadata": {
    "collapsed": false
   },
   "outputs": [
    {
     "name": "stdout",
     "output_type": "stream",
     "text": [
      "[1] 16215  3228\n"
     ]
    }
   ],
   "source": [
    "#Getting Expression Values for all Genes across all single cells.\n",
    "expressionValues=expressionData[,(2:ncol(expressionData))]\n",
    "\n",
    "#Writing Genes for Later Use by the Java Program and possibly GO Term Analysis\n",
    "write.table(expressionData$geneName,\"geneNamesHuman.csv\",quote=FALSE, row.names=FALSE, col.names=FALSE)\n",
    "\n",
    "#Removing NA values. Hopefully this will resolve the problems with the graph. Right now I am seeing values only \n",
    "#along the diagnal. This should hopefully fix that problem.\n",
    "expressionValues[is.na(expressionValues)]=0\n",
    "\n",
    "print(dim(expressionValues))"
   ]
  },
  {
   "cell_type": "markdown",
   "metadata": {},
   "source": [
    "Randomly sampling about 500 rows from the matrix to check what kind of sparsity I get."
   ]
  },
  {
   "cell_type": "code",
   "execution_count": 7,
   "metadata": {
    "collapsed": false
   },
   "outputs": [
    {
     "name": "stdout",
     "output_type": "stream",
     "text": [
      "[1]  500 3228\n"
     ]
    }
   ],
   "source": [
    "randomRows=sample(1:nrow(expressionValues),500,replace = FALSE)\n",
    "expressionValues=expressionValues[randomRows,]\n",
    "print(dim(expressionValues))"
   ]
  },
  {
   "cell_type": "code",
   "execution_count": 14,
   "metadata": {
    "collapsed": false
   },
   "outputs": [
    {
     "name": "stdout",
     "output_type": "stream",
     "text": [
      "[1] 3228  500\n"
     ]
    }
   ],
   "source": [
    "expressionMatrix=as.matrix(t(expressionValues))\n",
    "print(dim(expressionMatrix))"
   ]
  },
  {
   "cell_type": "code",
   "execution_count": 9,
   "metadata": {
    "collapsed": false
   },
   "outputs": [
    {
     "name": "stdout",
     "output_type": "stream",
     "text": [
      "[1] \"Everything except Graph model done\"\n",
      "Conducting the graphical lasso (glasso)....done.                                          \n",
      "[1] \"Done!\"\n"
     ]
    }
   ],
   "source": [
    "print(\"Everything except Graph model done\")\n",
    "#No need to do a Log transform and calculate RPM. Rizi already has done all this stuff. Moreover she used TPM\n",
    "\n",
    "#Trying the output for a lot of lambdas. This should give me a sparcity vector in the output.\n",
    "#######################################################################################################\n",
    "lambdas=seq(0.01,1,by=0.01)\n",
    "graphModel = huge(expressionMatrix, method=\"glasso\", lambda=lambdas)\n",
    "print(\"Done!\")\n",
    "#######################################################################################################"
   ]
  },
  {
   "cell_type": "markdown",
   "metadata": {},
   "source": [
    "Plotting relationship between sparsity and lambda"
   ]
  },
  {
   "cell_type": "code",
   "execution_count": 10,
   "metadata": {
    "collapsed": false
   },
   "outputs": [
    {
     "data": {
      "image/png": "[encoded data removed]",
      "image/svg+xml": [
       "<?xml version=\"1.0\" encoding=\"UTF-8\"?>\n",
       "<svg xmlns=\"http://www.w3.org/2000/svg\" xmlns:xlink=\"http://www.w3.org/1999/xlink\" width=\"504pt\" height=\"504pt\" viewBox=\"0 0 504 504\" version=\"1.1\">\n",
       "<defs>\n",
       "<g>\n",
       "<symbol overflow=\"visible\" id=\"glyph0-0\">\n",
       "<path style=\"stroke:none;\" d=\"\"/>\n",
       "</symbol>\n",
       "<symbol overflow=\"visible\" id=\"glyph0-1\">\n",
       "<path style=\"stroke:none;\" d=\"M 3.296875 -8.515625 C 2.515625 -8.515625 1.78125 -8.15625 1.34375 -7.578125 C 0.796875 -6.828125 0.515625 -5.6875 0.515625 -4.109375 C 0.515625 -1.25 1.46875 0.28125 3.296875 0.28125 C 5.09375 0.28125 6.078125 -1.25 6.078125 -4.046875 C 6.078125 -5.703125 5.8125 -6.796875 5.25 -7.578125 C 4.8125 -8.171875 4.109375 -8.515625 3.296875 -8.515625 Z M 3.296875 -7.578125 C 4.4375 -7.578125 5 -6.421875 5 -4.140625 C 5 -1.734375 4.453125 -0.59375 3.28125 -0.59375 C 2.15625 -0.59375 1.59375 -1.78125 1.59375 -4.109375 C 1.59375 -6.4375 2.15625 -7.578125 3.296875 -7.578125 Z M 3.296875 -7.578125 \"/>\n",
       "</symbol>\n",
       "<symbol overflow=\"visible\" id=\"glyph0-2\">\n",
       "<path style=\"stroke:none;\" d=\"M 2.296875 -1.25 L 1.046875 -1.25 L 1.046875 0 L 2.296875 0 Z M 2.296875 -1.25 \"/>\n",
       "</symbol>\n",
       "<symbol overflow=\"visible\" id=\"glyph0-3\">\n",
       "<path style=\"stroke:none;\" d=\"M 6.078125 -1.046875 L 1.59375 -1.046875 C 1.703125 -1.734375 2.09375 -2.1875 3.125 -2.796875 L 4.328125 -3.4375 C 5.515625 -4.09375 6.125 -4.96875 6.125 -6.015625 C 6.125 -6.71875 5.84375 -7.375 5.34375 -7.84375 C 4.84375 -8.296875 4.21875 -8.515625 3.40625 -8.515625 C 2.328125 -8.515625 1.53125 -8.125 1.0625 -7.40625 C 0.75 -6.953125 0.625 -6.421875 0.59375 -5.5625 L 1.65625 -5.5625 C 1.6875 -6.125 1.765625 -6.484375 1.90625 -6.75 C 2.1875 -7.265625 2.734375 -7.578125 3.375 -7.578125 C 4.328125 -7.578125 5.046875 -6.90625 5.046875 -5.984375 C 5.046875 -5.3125 4.65625 -4.734375 3.90625 -4.3125 L 2.796875 -3.6875 C 1.015625 -2.671875 0.5 -1.875 0.40625 0 L 6.078125 0 Z M 6.078125 -1.046875 \"/>\n",
       "</symbol>\n",
       "<symbol overflow=\"visible\" id=\"glyph0-4\">\n",
       "<path style=\"stroke:none;\" d=\"M 3.921875 -2.046875 L 3.921875 0 L 4.984375 0 L 4.984375 -2.046875 L 6.234375 -2.046875 L 6.234375 -2.984375 L 4.984375 -2.984375 L 4.984375 -8.515625 L 4.203125 -8.515625 L 0.34375 -3.15625 L 0.34375 -2.046875 Z M 3.921875 -2.984375 L 1.265625 -2.984375 L 3.921875 -6.703125 Z M 3.921875 -2.984375 \"/>\n",
       "</symbol>\n",
       "<symbol overflow=\"visible\" id=\"glyph0-5\">\n",
       "<path style=\"stroke:none;\" d=\"M 5.96875 -6.28125 C 5.765625 -7.6875 4.859375 -8.515625 3.5625 -8.515625 C 2.625 -8.515625 1.78125 -8.046875 1.28125 -7.296875 C 0.75 -6.46875 0.515625 -5.421875 0.515625 -3.875 C 0.515625 -2.453125 0.734375 -1.53125 1.234375 -0.78125 C 1.6875 -0.09375 2.4375 0.28125 3.375 0.28125 C 4.984375 0.28125 6.15625 -0.921875 6.15625 -2.59375 C 6.15625 -4.171875 5.078125 -5.296875 3.546875 -5.296875 C 2.71875 -5.296875 2.046875 -4.96875 1.59375 -4.34375 C 1.609375 -6.421875 2.28125 -7.578125 3.484375 -7.578125 C 4.234375 -7.578125 4.75 -7.109375 4.921875 -6.28125 Z M 3.421875 -4.359375 C 4.4375 -4.359375 5.078125 -3.640625 5.078125 -2.515625 C 5.078125 -1.4375 4.359375 -0.65625 3.390625 -0.65625 C 2.40625 -0.65625 1.65625 -1.46875 1.65625 -2.5625 C 1.65625 -3.625 2.375 -4.359375 3.421875 -4.359375 Z M 3.421875 -4.359375 \"/>\n",
       "</symbol>\n",
       "<symbol overflow=\"visible\" id=\"glyph0-6\">\n",
       "<path style=\"stroke:none;\" d=\"M 4.6875 -4.46875 C 5.5625 -5 5.859375 -5.4375 5.859375 -6.234375 C 5.859375 -7.578125 4.8125 -8.515625 3.296875 -8.515625 C 1.796875 -8.515625 0.75 -7.578125 0.75 -6.234375 C 0.75 -5.453125 1.03125 -5.015625 1.890625 -4.46875 C 0.921875 -4.015625 0.4375 -3.296875 0.4375 -2.359375 C 0.4375 -0.796875 1.625 0.28125 3.296875 0.28125 C 4.984375 0.28125 6.15625 -0.796875 6.15625 -2.359375 C 6.15625 -3.296875 5.671875 -4.015625 4.6875 -4.46875 Z M 3.296875 -7.578125 C 4.203125 -7.578125 4.78125 -7.046875 4.78125 -6.21875 C 4.78125 -5.421875 4.1875 -4.890625 3.296875 -4.890625 C 2.40625 -4.890625 1.828125 -5.421875 1.828125 -6.234375 C 1.828125 -7.046875 2.40625 -7.578125 3.296875 -7.578125 Z M 3.296875 -4.015625 C 4.359375 -4.015625 5.078125 -3.34375 5.078125 -2.34375 C 5.078125 -1.328125 4.359375 -0.65625 3.28125 -0.65625 C 2.25 -0.65625 1.53125 -1.34375 1.53125 -2.34375 C 1.53125 -3.34375 2.25 -4.015625 3.296875 -4.015625 Z M 3.296875 -4.015625 \"/>\n",
       "</symbol>\n",
       "<symbol overflow=\"visible\" id=\"glyph0-7\">\n",
       "<path style=\"stroke:none;\" d=\"M 3.109375 -6.0625 L 3.109375 0 L 4.15625 0 L 4.15625 -8.515625 L 3.46875 -8.515625 C 3.09375 -7.203125 2.859375 -7.015625 1.21875 -6.8125 L 1.21875 -6.0625 Z M 3.109375 -6.0625 \"/>\n",
       "</symbol>\n",
       "<symbol overflow=\"visible\" id=\"glyph0-8\">\n",
       "<path style=\"stroke:none;\" d=\"M 2.078125 -8.75 L 0.953125 -8.75 L 0.953125 0 L 6.390625 0 L 6.390625 -0.984375 L 2.078125 -0.984375 Z M 2.078125 -8.75 \"/>\n",
       "</symbol>\n",
       "<symbol overflow=\"visible\" id=\"glyph0-9\">\n",
       "<path style=\"stroke:none;\" d=\"M 6.421875 -0.59375 C 6.3125 -0.5625 6.265625 -0.5625 6.203125 -0.5625 C 5.859375 -0.5625 5.65625 -0.75 5.65625 -1.0625 L 5.65625 -4.75 C 5.65625 -5.875 4.84375 -6.46875 3.296875 -6.46875 C 2.390625 -6.46875 1.625 -6.203125 1.21875 -5.734375 C 0.921875 -5.40625 0.796875 -5.046875 0.78125 -4.421875 L 1.78125 -4.421875 C 1.875 -5.203125 2.328125 -5.546875 3.265625 -5.546875 C 4.15625 -5.546875 4.671875 -5.203125 4.671875 -4.609375 L 4.671875 -4.34375 C 4.671875 -3.921875 4.421875 -3.75 3.625 -3.640625 C 2.203125 -3.46875 1.984375 -3.421875 1.609375 -3.265625 C 0.875 -2.96875 0.5 -2.40625 0.5 -1.578125 C 0.5 -0.4375 1.296875 0.28125 2.5625 0.28125 C 3.359375 0.28125 4 0 4.703125 -0.640625 C 4.78125 -0.015625 5.09375 0.28125 5.734375 0.28125 C 5.9375 0.28125 6.09375 0.25 6.421875 0.171875 Z M 4.671875 -1.984375 C 4.671875 -1.640625 4.578125 -1.4375 4.265625 -1.15625 C 3.859375 -0.796875 3.375 -0.59375 2.78125 -0.59375 C 2 -0.59375 1.546875 -0.96875 1.546875 -1.609375 C 1.546875 -2.265625 1.984375 -2.609375 3.0625 -2.765625 C 4.109375 -2.90625 4.328125 -2.953125 4.671875 -3.109375 Z M 4.671875 -1.984375 \"/>\n",
       "</symbol>\n",
       "<symbol overflow=\"visible\" id=\"glyph0-10\">\n",
       "<path style=\"stroke:none;\" d=\"M 0.84375 -6.28125 L 0.84375 0 L 1.84375 0 L 1.84375 -3.953125 C 1.84375 -4.859375 2.515625 -5.59375 3.328125 -5.59375 C 4.0625 -5.59375 4.484375 -5.140625 4.484375 -4.328125 L 4.484375 0 L 5.5 0 L 5.5 -3.953125 C 5.5 -4.859375 6.15625 -5.59375 6.96875 -5.59375 C 7.703125 -5.59375 8.140625 -5.125 8.140625 -4.328125 L 8.140625 0 L 9.140625 0 L 9.140625 -4.71875 C 9.140625 -5.84375 8.5 -6.46875 7.3125 -6.46875 C 6.484375 -6.46875 5.96875 -6.21875 5.390625 -5.515625 C 5.015625 -6.1875 4.515625 -6.46875 3.703125 -6.46875 C 2.859375 -6.46875 2.296875 -6.15625 1.765625 -5.40625 L 1.765625 -6.28125 Z M 0.84375 -6.28125 \"/>\n",
       "</symbol>\n",
       "<symbol overflow=\"visible\" id=\"glyph0-11\">\n",
       "<path style=\"stroke:none;\" d=\"M 0.640625 -8.75 L 0.640625 0 L 1.546875 0 L 1.546875 -0.796875 C 2.03125 -0.078125 2.65625 0.28125 3.546875 0.28125 C 5.203125 0.28125 6.28125 -1.078125 6.28125 -3.171875 C 6.28125 -5.203125 5.25 -6.46875 3.59375 -6.46875 C 2.71875 -6.46875 2.109375 -6.140625 1.640625 -5.4375 L 1.640625 -8.75 Z M 3.390625 -5.53125 C 4.515625 -5.53125 5.234375 -4.5625 5.234375 -3.0625 C 5.234375 -1.625 4.484375 -0.65625 3.390625 -0.65625 C 2.34375 -0.65625 1.640625 -1.625 1.640625 -3.09375 C 1.640625 -4.578125 2.34375 -5.53125 3.390625 -5.53125 Z M 3.390625 -5.53125 \"/>\n",
       "</symbol>\n",
       "<symbol overflow=\"visible\" id=\"glyph0-12\">\n",
       "<path style=\"stroke:none;\" d=\"M 5.9375 -8.75 L 4.9375 -8.75 L 4.9375 -5.5 C 4.53125 -6.125 3.859375 -6.46875 3.015625 -6.46875 C 1.375 -6.46875 0.3125 -5.15625 0.3125 -3.15625 C 0.3125 -1.03125 1.359375 0.28125 3.046875 0.28125 C 3.90625 0.28125 4.515625 -0.046875 5.046875 -0.828125 L 5.046875 0 L 5.9375 0 Z M 3.1875 -5.53125 C 4.265625 -5.53125 4.9375 -4.578125 4.9375 -3.078125 C 4.9375 -1.625 4.25 -0.65625 3.1875 -0.65625 C 2.09375 -0.65625 1.359375 -1.625 1.359375 -3.09375 C 1.359375 -4.5625 2.09375 -5.53125 3.1875 -5.53125 Z M 3.1875 -5.53125 \"/>\n",
       "</symbol>\n",
       "<symbol overflow=\"visible\" id=\"glyph1-0\">\n",
       "<path style=\"stroke:none;\" d=\"\"/>\n",
       "</symbol>\n",
       "<symbol overflow=\"visible\" id=\"glyph1-1\">\n",
       "<path style=\"stroke:none;\" d=\"M -8.515625 -3.296875 C -8.515625 -2.515625 -8.15625 -1.78125 -7.578125 -1.34375 C -6.828125 -0.796875 -5.6875 -0.515625 -4.109375 -0.515625 C -1.25 -0.515625 0.28125 -1.46875 0.28125 -3.296875 C 0.28125 -5.09375 -1.25 -6.078125 -4.046875 -6.078125 C -5.703125 -6.078125 -6.796875 -5.8125 -7.578125 -5.25 C -8.171875 -4.8125 -8.515625 -4.109375 -8.515625 -3.296875 Z M -7.578125 -3.296875 C -7.578125 -4.4375 -6.421875 -5 -4.140625 -5 C -1.734375 -5 -0.59375 -4.453125 -0.59375 -3.28125 C -0.59375 -2.15625 -1.78125 -1.59375 -4.109375 -1.59375 C -6.4375 -1.59375 -7.578125 -2.15625 -7.578125 -3.296875 Z M -7.578125 -3.296875 \"/>\n",
       "</symbol>\n",
       "<symbol overflow=\"visible\" id=\"glyph1-2\">\n",
       "<path style=\"stroke:none;\" d=\"M -1.25 -2.296875 L -1.25 -1.046875 L 0 -1.046875 L 0 -2.296875 Z M -1.25 -2.296875 \"/>\n",
       "</symbol>\n",
       "<symbol overflow=\"visible\" id=\"glyph1-3\">\n",
       "<path style=\"stroke:none;\" d=\"M -6.0625 -3.109375 L 0 -3.109375 L 0 -4.15625 L -8.515625 -4.15625 L -8.515625 -3.46875 C -7.203125 -3.09375 -7.015625 -2.859375 -6.8125 -1.21875 L -6.0625 -1.21875 Z M -6.0625 -3.109375 \"/>\n",
       "</symbol>\n",
       "<symbol overflow=\"visible\" id=\"glyph1-4\">\n",
       "<path style=\"stroke:none;\" d=\"M -1.046875 -6.078125 L -1.046875 -1.59375 C -1.734375 -1.703125 -2.1875 -2.09375 -2.796875 -3.125 L -3.4375 -4.328125 C -4.09375 -5.515625 -4.96875 -6.125 -6.015625 -6.125 C -6.71875 -6.125 -7.375 -5.84375 -7.84375 -5.34375 C -8.296875 -4.84375 -8.515625 -4.21875 -8.515625 -3.40625 C -8.515625 -2.328125 -8.125 -1.53125 -7.40625 -1.0625 C -6.953125 -0.75 -6.421875 -0.625 -5.5625 -0.59375 L -5.5625 -1.65625 C -6.125 -1.6875 -6.484375 -1.765625 -6.75 -1.90625 C -7.265625 -2.1875 -7.578125 -2.734375 -7.578125 -3.375 C -7.578125 -4.328125 -6.90625 -5.046875 -5.984375 -5.046875 C -5.3125 -5.046875 -4.734375 -4.65625 -4.3125 -3.90625 L -3.6875 -2.796875 C -2.671875 -1.015625 -1.875 -0.5 0 -0.40625 L 0 -6.078125 Z M -1.046875 -6.078125 \"/>\n",
       "</symbol>\n",
       "<symbol overflow=\"visible\" id=\"glyph1-5\">\n",
       "<path style=\"stroke:none;\" d=\"M -3.90625 -2.65625 L -3.90625 -3.234375 C -3.90625 -4.390625 -3.390625 -4.984375 -2.359375 -4.984375 C -1.296875 -4.984375 -0.65625 -4.328125 -0.65625 -3.234375 C -0.65625 -2.078125 -1.234375 -1.515625 -2.46875 -1.4375 L -2.46875 -0.390625 C -1.78125 -0.4375 -1.34375 -0.546875 -0.953125 -0.75 C -0.140625 -1.1875 0.28125 -2.03125 0.28125 -3.1875 C 0.28125 -4.9375 -0.765625 -6.078125 -2.375 -6.078125 C -3.453125 -6.078125 -4.0625 -5.65625 -4.40625 -4.625 C -4.71875 -5.421875 -5.3125 -5.8125 -6.171875 -5.8125 C -7.625 -5.8125 -8.515625 -4.84375 -8.515625 -3.234375 C -8.515625 -1.515625 -7.578125 -0.59375 -5.765625 -0.5625 L -5.765625 -1.625 C -6.28125 -1.625 -6.5625 -1.6875 -6.828125 -1.8125 C -7.296875 -2.046875 -7.578125 -2.578125 -7.578125 -3.234375 C -7.578125 -4.171875 -7.03125 -4.734375 -6.125 -4.734375 C -5.53125 -4.734375 -5.171875 -4.53125 -4.984375 -4.0625 C -4.859375 -3.765625 -4.8125 -3.390625 -4.796875 -2.65625 Z M -3.90625 -2.65625 \"/>\n",
       "</symbol>\n",
       "<symbol overflow=\"visible\" id=\"glyph1-6\">\n",
       "<path style=\"stroke:none;\" d=\"M -2.046875 -3.921875 L 0 -3.921875 L 0 -4.984375 L -2.046875 -4.984375 L -2.046875 -6.234375 L -2.984375 -6.234375 L -2.984375 -4.984375 L -8.515625 -4.984375 L -8.515625 -4.203125 L -3.15625 -0.34375 L -2.046875 -0.34375 Z M -2.984375 -3.921875 L -2.984375 -1.265625 L -6.703125 -3.921875 Z M -2.984375 -3.921875 \"/>\n",
       "</symbol>\n",
       "<symbol overflow=\"visible\" id=\"glyph1-7\">\n",
       "<path style=\"stroke:none;\" d=\"M -8.515625 -5.71875 L -8.515625 -1.3125 L -3.875 -0.6875 L -3.875 -1.65625 C -4.46875 -2.140625 -4.671875 -2.5625 -4.671875 -3.21875 C -4.671875 -4.359375 -3.890625 -5.078125 -2.625 -5.078125 C -1.40625 -5.078125 -0.65625 -4.375 -0.65625 -3.21875 C -0.65625 -2.296875 -1.125 -1.734375 -2.09375 -1.46875 L -2.09375 -0.421875 C -1.390625 -0.5625 -1.0625 -0.6875 -0.75 -0.9375 C -0.09375 -1.421875 0.28125 -2.28125 0.28125 -3.234375 C 0.28125 -4.953125 -0.96875 -6.15625 -2.765625 -6.15625 C -4.453125 -6.15625 -5.609375 -5.046875 -5.609375 -3.40625 C -5.609375 -2.8125 -5.453125 -2.328125 -5.09375 -1.84375 L -7.46875 -2.171875 L -7.46875 -5.71875 Z M -8.515625 -5.71875 \"/>\n",
       "</symbol>\n",
       "<symbol overflow=\"visible\" id=\"glyph1-8\">\n",
       "<path style=\"stroke:none;\" d=\"M -6.1875 -7.15625 C -7.890625 -7.140625 -8.890625 -5.96875 -8.890625 -3.953125 C -8.890625 -2.03125 -7.90625 -0.84375 -6.328125 -0.84375 C -5.25 -0.84375 -4.578125 -1.40625 -4.28125 -2.5625 L -3.703125 -4.734375 C -3.421875 -5.828125 -2.96875 -6.34375 -2.296875 -6.34375 C -1.828125 -6.34375 -1.34375 -6.078125 -1.078125 -5.71875 C -0.84375 -5.359375 -0.703125 -4.8125 -0.703125 -4.109375 C -0.703125 -3.15625 -0.9375 -2.515625 -1.4375 -2.09375 C -1.828125 -1.765625 -2.25 -1.625 -2.78125 -1.625 L -2.78125 -0.578125 C -1.984375 -0.59375 -1.453125 -0.75 -0.96875 -1.09375 C -0.15625 -1.6875 0.28125 -2.703125 0.28125 -4.03125 C 0.28125 -5.078125 0.03125 -5.921875 -0.390625 -6.484375 C -0.859375 -7.078125 -1.640625 -7.453125 -2.40625 -7.453125 C -3.484375 -7.453125 -4.265625 -6.78125 -4.59375 -5.59375 L -5.1875 -3.390625 C -5.46875 -2.34375 -5.8125 -1.953125 -6.484375 -1.953125 C -7.375 -1.953125 -7.953125 -2.734375 -7.953125 -3.90625 C -7.953125 -5.296875 -7.3125 -6.078125 -6.1875 -6.09375 Z M -6.1875 -7.15625 \"/>\n",
       "</symbol>\n",
       "<symbol overflow=\"visible\" id=\"glyph1-9\">\n",
       "<path style=\"stroke:none;\" d=\"M 2.609375 -0.640625 L 2.609375 -1.65625 L -0.65625 -1.65625 C -0.015625 -2.1875 0.28125 -2.765625 0.28125 -3.59375 C 0.28125 -5.203125 -1.03125 -6.28125 -3.03125 -6.28125 C -5.140625 -6.28125 -6.46875 -5.25 -6.46875 -3.578125 C -6.46875 -2.71875 -6.078125 -2.046875 -5.34375 -1.578125 L -6.28125 -1.578125 L -6.28125 -0.640625 Z M -5.53125 -3.40625 C -5.53125 -4.515625 -4.5625 -5.234375 -3.0625 -5.234375 C -1.625 -5.234375 -0.65625 -4.5 -0.65625 -3.40625 C -0.65625 -2.359375 -1.625 -1.65625 -3.09375 -1.65625 C -4.578125 -1.65625 -5.53125 -2.359375 -5.53125 -3.40625 Z M -5.53125 -3.40625 \"/>\n",
       "</symbol>\n",
       "<symbol overflow=\"visible\" id=\"glyph1-10\">\n",
       "<path style=\"stroke:none;\" d=\"M -0.59375 -6.421875 C -0.5625 -6.3125 -0.5625 -6.265625 -0.5625 -6.203125 C -0.5625 -5.859375 -0.75 -5.65625 -1.0625 -5.65625 L -4.75 -5.65625 C -5.875 -5.65625 -6.46875 -4.84375 -6.46875 -3.296875 C -6.46875 -2.390625 -6.203125 -1.625 -5.734375 -1.21875 C -5.40625 -0.921875 -5.046875 -0.796875 -4.421875 -0.78125 L -4.421875 -1.78125 C -5.203125 -1.875 -5.546875 -2.328125 -5.546875 -3.265625 C -5.546875 -4.15625 -5.203125 -4.671875 -4.609375 -4.671875 L -4.34375 -4.671875 C -3.921875 -4.671875 -3.75 -4.421875 -3.640625 -3.625 C -3.46875 -2.203125 -3.421875 -1.984375 -3.265625 -1.609375 C -2.96875 -0.875 -2.40625 -0.5 -1.578125 -0.5 C -0.4375 -0.5 0.28125 -1.296875 0.28125 -2.5625 C 0.28125 -3.359375 0 -4 -0.640625 -4.703125 C -0.015625 -4.78125 0.28125 -5.09375 0.28125 -5.734375 C 0.28125 -5.9375 0.25 -6.09375 0.171875 -6.421875 Z M -1.984375 -4.671875 C -1.640625 -4.671875 -1.4375 -4.578125 -1.15625 -4.265625 C -0.796875 -3.859375 -0.59375 -3.375 -0.59375 -2.78125 C -0.59375 -2 -0.96875 -1.546875 -1.609375 -1.546875 C -2.265625 -1.546875 -2.609375 -1.984375 -2.765625 -3.0625 C -2.90625 -4.109375 -2.953125 -4.328125 -3.109375 -4.671875 Z M -1.984375 -4.671875 \"/>\n",
       "</symbol>\n",
       "<symbol overflow=\"visible\" id=\"glyph1-11\">\n",
       "<path style=\"stroke:none;\" d=\"M -6.28125 -0.828125 L 0 -0.828125 L 0 -1.84375 L -3.265625 -1.84375 C -4.15625 -1.84375 -4.75 -2.0625 -5.09375 -2.546875 C -5.328125 -2.859375 -5.40625 -3.15625 -5.40625 -3.859375 L -6.4375 -3.859375 C -6.453125 -3.6875 -6.46875 -3.59375 -6.46875 -3.46875 C -6.46875 -2.8125 -6.078125 -2.328125 -5.140625 -1.75 L -6.28125 -1.75 Z M -6.28125 -0.828125 \"/>\n",
       "</symbol>\n",
       "<symbol overflow=\"visible\" id=\"glyph1-12\">\n",
       "<path style=\"stroke:none;\" d=\"M -4.53125 -5.25 C -5.765625 -5.25 -6.46875 -4.421875 -6.46875 -2.96875 C -6.46875 -1.515625 -5.71875 -0.5625 -4.546875 -0.5625 C -3.5625 -0.5625 -3.09375 -1.0625 -2.734375 -2.5625 L -2.515625 -3.484375 C -2.34375 -4.1875 -2.09375 -4.46875 -1.625 -4.46875 C -1.046875 -4.46875 -0.640625 -3.875 -0.640625 -3 C -0.640625 -2.453125 -0.796875 -2 -1.0625 -1.75 C -1.25 -1.59375 -1.421875 -1.53125 -1.875 -1.46875 L -1.875 -0.40625 C -0.421875 -0.453125 0.28125 -1.265625 0.28125 -2.921875 C 0.28125 -4.5 -0.5 -5.515625 -1.71875 -5.515625 C -2.65625 -5.515625 -3.171875 -4.984375 -3.46875 -3.734375 L -3.703125 -2.765625 C -3.890625 -1.953125 -4.15625 -1.609375 -4.59375 -1.609375 C -5.171875 -1.609375 -5.546875 -2.125 -5.546875 -2.9375 C -5.546875 -3.75 -5.203125 -4.171875 -4.53125 -4.203125 Z M -4.53125 -5.25 \"/>\n",
       "</symbol>\n",
       "<symbol overflow=\"visible\" id=\"glyph1-13\">\n",
       "<path style=\"stroke:none;\" d=\"M -6.28125 -1.796875 L -6.28125 -0.796875 L 0 -0.796875 L 0 -1.796875 Z M -8.75 -1.796875 L -8.75 -0.796875 L -7.484375 -0.796875 L -7.484375 -1.796875 Z M -8.75 -1.796875 \"/>\n",
       "</symbol>\n",
       "<symbol overflow=\"visible\" id=\"glyph1-14\">\n",
       "<path style=\"stroke:none;\" d=\"M -6.28125 -3.046875 L -6.28125 -2.015625 L -8.015625 -2.015625 L -8.015625 -1.015625 L -6.28125 -1.015625 L -6.28125 -0.171875 L -5.46875 -0.171875 L -5.46875 -1.015625 L -0.71875 -1.015625 C -0.078125 -1.015625 0.28125 -1.453125 0.28125 -2.234375 C 0.28125 -2.46875 0.25 -2.71875 0.1875 -3.046875 L -0.640625 -3.046875 C -0.609375 -2.921875 -0.59375 -2.765625 -0.59375 -2.5625 C -0.59375 -2.140625 -0.71875 -2.015625 -1.15625 -2.015625 L -5.46875 -2.015625 L -5.46875 -3.046875 Z M -6.28125 -3.046875 \"/>\n",
       "</symbol>\n",
       "<symbol overflow=\"visible\" id=\"glyph1-15\">\n",
       "<path style=\"stroke:none;\" d=\"M -6.28125 -4.65625 L -1.390625 -2.921875 L -6.28125 -1.3125 L -6.28125 -0.234375 L 0.03125 -2.359375 L 1.015625 -1.984375 C 1.46875 -1.828125 1.625 -1.59375 1.625 -1.171875 C 1.625 -1.03125 1.609375 -0.859375 1.5625 -0.640625 L 2.453125 -0.640625 C 2.5625 -0.859375 2.609375 -1.0625 2.609375 -1.3125 C 2.609375 -1.640625 2.515625 -1.984375 2.3125 -2.25 C 2.09375 -2.5625 1.828125 -2.75 1.3125 -2.9375 L -6.28125 -5.734375 Z M -6.28125 -4.65625 \"/>\n",
       "</symbol>\n",
       "<symbol overflow=\"visible\" id=\"glyph1-16\">\n",
       "<path style=\"stroke:none;\" d=\"\"/>\n",
       "</symbol>\n",
       "<symbol overflow=\"visible\" id=\"glyph1-17\">\n",
       "<path style=\"stroke:none;\" d=\"M -6.46875 -3.265625 C -6.46875 -1.5 -5.203125 -0.4375 -3.09375 -0.4375 C -0.984375 -0.4375 0.28125 -1.484375 0.28125 -3.28125 C 0.28125 -5.046875 -0.984375 -6.125 -3.046875 -6.125 C -5.21875 -6.125 -6.46875 -5.078125 -6.46875 -3.265625 Z M -5.546875 -3.28125 C -5.546875 -4.40625 -4.625 -5.078125 -3.0625 -5.078125 C -1.578125 -5.078125 -0.640625 -4.375 -0.640625 -3.28125 C -0.640625 -2.15625 -1.578125 -1.46875 -3.09375 -1.46875 C -4.609375 -1.46875 -5.546875 -2.15625 -5.546875 -3.28125 Z M -5.546875 -3.28125 \"/>\n",
       "</symbol>\n",
       "<symbol overflow=\"visible\" id=\"glyph1-18\">\n",
       "<path style=\"stroke:none;\" d=\"M -6.28125 -3.09375 L -6.28125 -2.046875 L -7.265625 -2.046875 C -7.6875 -2.046875 -7.90625 -2.296875 -7.90625 -2.75 C -7.90625 -2.828125 -7.90625 -2.875 -7.890625 -3.09375 L -8.71875 -3.09375 C -8.765625 -2.875 -8.78125 -2.734375 -8.78125 -2.53125 C -8.78125 -1.609375 -8.25 -1.0625 -7.359375 -1.0625 L -6.28125 -1.0625 L -6.28125 -0.21875 L -5.46875 -0.21875 L -5.46875 -1.0625 L 0 -1.0625 L 0 -2.046875 L -5.46875 -2.046875 L -5.46875 -3.09375 Z M -6.28125 -3.09375 \"/>\n",
       "</symbol>\n",
       "<symbol overflow=\"visible\" id=\"glyph1-19\">\n",
       "<path style=\"stroke:none;\" d=\"M 0 -5.78125 L -6.28125 -5.78125 L -6.28125 -4.78125 L -2.71875 -4.78125 C -1.4375 -4.78125 -0.59375 -4.109375 -0.59375 -3.078125 C -0.59375 -2.28125 -1.078125 -1.78125 -1.84375 -1.78125 L -6.28125 -1.78125 L -6.28125 -0.78125 L -1.4375 -0.78125 C -0.390625 -0.78125 0.28125 -1.5625 0.28125 -2.78125 C 0.28125 -3.703125 -0.046875 -4.296875 -0.875 -4.890625 L 0 -4.890625 Z M 0 -5.78125 \"/>\n",
       "</symbol>\n",
       "<symbol overflow=\"visible\" id=\"glyph2-0\">\n",
       "<path style=\"stroke:none;\" d=\"\"/>\n",
       "</symbol>\n",
       "<symbol overflow=\"visible\" id=\"glyph2-1\">\n",
       "<path style=\"stroke:none;\" d=\"M 3.25 -3.75 L 5.953125 -3.75 C 7.875 -3.75 9.125 -5.109375 9.125 -7.25 C 9.125 -9.34375 7.921875 -10.5 5.734375 -10.5 L 1.09375 -10.5 L 1.09375 0 L 3.25 0 Z M 3.25 -5.546875 L 3.25 -8.703125 L 5.265625 -8.703125 C 6.421875 -8.703125 6.953125 -8.203125 6.953125 -7.109375 C 6.953125 -6.046875 6.421875 -5.546875 5.265625 -5.546875 Z M 3.25 -5.546875 \"/>\n",
       "</symbol>\n",
       "<symbol overflow=\"visible\" id=\"glyph2-2\">\n",
       "<path style=\"stroke:none;\" d=\"M 2.984375 -10.5 L 0.96875 -10.5 L 0.96875 0 L 2.984375 0 Z M 2.984375 -10.5 \"/>\n",
       "</symbol>\n",
       "<symbol overflow=\"visible\" id=\"glyph2-3\">\n",
       "<path style=\"stroke:none;\" d=\"M 4.34375 -7.90625 C 1.953125 -7.90625 0.5 -6.34375 0.5 -3.78125 C 0.5 -1.21875 1.953125 0.328125 4.34375 0.328125 C 6.71875 0.328125 8.203125 -1.234375 8.203125 -3.734375 C 8.203125 -6.375 6.765625 -7.90625 4.34375 -7.90625 Z M 4.34375 -6.28125 C 5.453125 -6.28125 6.1875 -5.28125 6.1875 -3.765625 C 6.1875 -2.3125 5.4375 -1.296875 4.34375 -1.296875 C 3.25 -1.296875 2.515625 -2.3125 2.515625 -3.78125 C 2.515625 -5.265625 3.25 -6.28125 4.34375 -6.28125 Z M 4.34375 -6.28125 \"/>\n",
       "</symbol>\n",
       "<symbol overflow=\"visible\" id=\"glyph2-4\">\n",
       "<path style=\"stroke:none;\" d=\"M 4.34375 -7.625 L 3.21875 -7.625 L 3.21875 -9.703125 L 1.203125 -9.703125 L 1.203125 -7.625 L 0.203125 -7.625 L 0.203125 -6.28125 L 1.203125 -6.28125 L 1.203125 -1.5 C 1.203125 -0.28125 1.84375 0.328125 3.171875 0.328125 C 3.609375 0.328125 3.96875 0.28125 4.34375 0.171875 L 4.34375 -1.234375 C 4.140625 -1.203125 4.015625 -1.203125 3.875 -1.203125 C 3.34375 -1.203125 3.21875 -1.359375 3.21875 -2.046875 L 3.21875 -6.28125 L 4.34375 -6.28125 Z M 4.34375 -7.625 \"/>\n",
       "</symbol>\n",
       "<symbol overflow=\"visible\" id=\"glyph2-5\">\n",
       "<path style=\"stroke:none;\" d=\"\"/>\n",
       "</symbol>\n",
       "<symbol overflow=\"visible\" id=\"glyph2-6\">\n",
       "<path style=\"stroke:none;\" d=\"M 4.515625 -7.625 L 3.3125 -7.625 L 3.3125 -8.390625 C 3.3125 -8.78125 3.484375 -8.984375 3.859375 -8.984375 C 4.03125 -8.984375 4.265625 -8.96875 4.4375 -8.953125 L 4.4375 -10.453125 C 4.0625 -10.484375 3.5625 -10.5 3.28125 -10.5 C 1.9375 -10.5 1.296875 -9.875 1.296875 -8.5625 L 1.296875 -7.625 L 0.203125 -7.625 L 0.203125 -6.28125 L 1.296875 -6.28125 L 1.296875 0 L 3.3125 0 L 3.3125 -6.28125 L 4.515625 -6.28125 Z M 4.515625 -7.625 \"/>\n",
       "</symbol>\n",
       "<symbol overflow=\"visible\" id=\"glyph2-7\">\n",
       "<path style=\"stroke:none;\" d=\"M 3.3125 -10.5 L 1.15625 -10.5 L 1.15625 0 L 8.34375 0 L 8.34375 -1.796875 L 3.3125 -1.796875 Z M 3.3125 -10.5 \"/>\n",
       "</symbol>\n",
       "<symbol overflow=\"visible\" id=\"glyph2-8\">\n",
       "<path style=\"stroke:none;\" d=\"M 7.546875 -0.25 C 7.1875 -0.578125 7.09375 -0.796875 7.09375 -1.203125 L 7.09375 -5.515625 C 7.09375 -7.109375 6 -7.90625 3.90625 -7.90625 C 1.796875 -7.90625 0.703125 -7.015625 0.578125 -5.21875 L 2.515625 -5.21875 C 2.625 -6.015625 2.953125 -6.28125 3.953125 -6.28125 C 4.71875 -6.28125 5.109375 -6.015625 5.109375 -5.5 C 5.109375 -5.25 4.984375 -5.015625 4.765625 -4.890625 C 4.5 -4.75 4.5 -4.75 3.5 -4.59375 L 2.6875 -4.453125 C 1.15625 -4.1875 0.40625 -3.40625 0.40625 -2 C 0.40625 -1.34375 0.59375 -0.796875 0.953125 -0.40625 C 1.390625 0.0625 2.078125 0.328125 2.765625 0.328125 C 3.625 0.328125 4.421875 -0.046875 5.125 -0.78125 C 5.125 -0.375 5.171875 -0.234375 5.359375 0 L 7.546875 0 Z M 5.109375 -3.125 C 5.109375 -1.953125 4.53125 -1.296875 3.515625 -1.296875 C 2.84375 -1.296875 2.421875 -1.65625 2.421875 -2.234375 C 2.421875 -2.84375 2.734375 -3.125 3.578125 -3.296875 L 4.265625 -3.421875 C 4.796875 -3.53125 4.890625 -3.5625 5.109375 -3.671875 Z M 5.109375 -3.125 \"/>\n",
       "</symbol>\n",
       "<symbol overflow=\"visible\" id=\"glyph2-9\">\n",
       "<path style=\"stroke:none;\" d=\"M 0.859375 -7.78125 L 0.859375 0 L 2.875 0 L 2.875 -4.671875 C 2.875 -5.625 3.40625 -6.1875 4.265625 -6.1875 C 4.9375 -6.1875 5.359375 -5.8125 5.359375 -5.1875 L 5.359375 0 L 7.375 0 L 7.375 -4.671875 C 7.375 -5.625 7.890625 -6.1875 8.765625 -6.1875 C 9.4375 -6.1875 9.859375 -5.8125 9.859375 -5.1875 L 9.859375 0 L 11.875 0 L 11.875 -5.5 C 11.875 -7.015625 10.953125 -7.90625 9.390625 -7.90625 C 8.40625 -7.90625 7.71875 -7.5625 7.109375 -6.75 C 6.734375 -7.484375 5.96875 -7.90625 5 -7.90625 C 4.109375 -7.90625 3.53125 -7.609375 2.859375 -6.8125 L 2.859375 -7.78125 Z M 0.859375 -7.78125 \"/>\n",
       "</symbol>\n",
       "<symbol overflow=\"visible\" id=\"glyph2-10\">\n",
       "<path style=\"stroke:none;\" d=\"M 0.84375 -10.5 L 0.84375 0 L 2.859375 0 L 2.859375 -0.796875 C 3.359375 -0.03125 4.03125 0.328125 5.015625 0.328125 C 6.875 0.328125 8.28125 -1.4375 8.28125 -3.78125 C 8.28125 -4.84375 7.96875 -5.90625 7.453125 -6.65625 C 6.921875 -7.421875 5.96875 -7.90625 5.015625 -7.90625 C 4.046875 -7.90625 3.359375 -7.546875 2.859375 -6.765625 L 2.859375 -10.5 Z M 4.5625 -6.21875 C 5.5625 -6.21875 6.265625 -5.21875 6.265625 -3.78125 C 6.265625 -2.359375 5.5625 -1.359375 4.5625 -1.359375 C 3.546875 -1.359375 2.859375 -2.328125 2.859375 -3.8125 C 2.859375 -5.234375 3.5625 -6.21875 4.5625 -6.21875 Z M 4.5625 -6.21875 \"/>\n",
       "</symbol>\n",
       "<symbol overflow=\"visible\" id=\"glyph2-11\">\n",
       "<path style=\"stroke:none;\" d=\"M 5.828125 0 L 7.84375 0 L 7.84375 -10.5 L 5.828125 -10.5 L 5.828125 -6.765625 C 5.328125 -7.546875 4.65625 -7.90625 3.6875 -7.90625 C 1.828125 -7.90625 0.421875 -6.125 0.421875 -3.78125 C 0.421875 -2.71875 0.734375 -1.65625 1.25 -0.90625 C 1.78125 -0.15625 2.734375 0.328125 3.6875 0.328125 C 4.65625 0.328125 5.328125 -0.03125 5.828125 -0.796875 Z M 4.140625 -6.21875 C 5.15625 -6.21875 5.828125 -5.234375 5.828125 -3.75 C 5.828125 -2.328125 5.140625 -1.359375 4.140625 -1.359375 C 3.125 -1.359375 2.4375 -2.34375 2.4375 -3.78125 C 2.4375 -5.21875 3.125 -6.21875 4.140625 -6.21875 Z M 4.140625 -6.21875 \"/>\n",
       "</symbol>\n",
       "<symbol overflow=\"visible\" id=\"glyph2-12\">\n",
       "<path style=\"stroke:none;\" d=\"M 7.515625 -4.875 C 7.375 -6.765625 6.109375 -7.90625 4.15625 -7.90625 C 1.84375 -7.90625 0.484375 -6.375 0.484375 -3.734375 C 0.484375 -1.171875 1.828125 0.328125 4.140625 0.328125 C 6.015625 0.328125 7.328125 -0.828125 7.515625 -2.6875 L 5.59375 -2.6875 C 5.328125 -1.6875 4.921875 -1.296875 4.15625 -1.296875 C 3.125 -1.296875 2.5 -2.21875 2.5 -3.734375 C 2.5 -4.46875 2.65625 -5.15625 2.890625 -5.625 C 3.125 -6.046875 3.578125 -6.28125 4.15625 -6.28125 C 4.96875 -6.28125 5.359375 -5.890625 5.59375 -4.875 Z M 7.515625 -4.875 \"/>\n",
       "</symbol>\n",
       "<symbol overflow=\"visible\" id=\"glyph2-13\">\n",
       "<path style=\"stroke:none;\" d=\"M 7.796875 0 L 7.796875 -7.78125 L 5.78125 -7.78125 L 5.78125 -2.90625 C 5.78125 -1.984375 5.125 -1.390625 4.15625 -1.390625 C 3.28125 -1.390625 2.859375 -1.84375 2.859375 -2.78125 L 2.859375 -7.78125 L 0.828125 -7.78125 L 0.828125 -2.359375 C 0.828125 -0.640625 1.78125 0.328125 3.4375 0.328125 C 4.5 0.328125 5.203125 -0.0625 5.78125 -0.921875 L 5.78125 0 Z M 7.796875 0 \"/>\n",
       "</symbol>\n",
       "<symbol overflow=\"visible\" id=\"glyph2-14\">\n",
       "<path style=\"stroke:none;\" d=\"M 5.046875 0 L 7.71875 -7.78125 L 5.59375 -7.78125 L 4.015625 -2.09375 L 2.328125 -7.78125 L 0.203125 -7.78125 L 2.921875 0 Z M 5.046875 0 \"/>\n",
       "</symbol>\n",
       "<symbol overflow=\"visible\" id=\"glyph2-15\">\n",
       "<path style=\"stroke:none;\" d=\"M 7.28125 -5.265625 C 7.25 -6.921875 5.984375 -7.90625 3.890625 -7.90625 C 1.921875 -7.90625 0.6875 -6.921875 0.6875 -5.3125 C 0.6875 -4.796875 0.84375 -4.34375 1.125 -4.046875 C 1.390625 -3.78125 1.640625 -3.640625 2.390625 -3.40625 L 4.796875 -2.65625 C 5.296875 -2.5 5.46875 -2.328125 5.46875 -2.015625 C 5.46875 -1.546875 4.90625 -1.25 3.96875 -1.25 C 3.453125 -1.25 3.046875 -1.359375 2.78125 -1.53125 C 2.5625 -1.6875 2.484375 -1.84375 2.390625 -2.265625 L 0.421875 -2.265625 C 0.46875 -0.5625 1.734375 0.328125 4.09375 0.328125 C 5.171875 0.328125 6 0.09375 6.5625 -0.359375 C 7.140625 -0.828125 7.484375 -1.546875 7.484375 -2.3125 C 7.484375 -3.3125 6.984375 -3.96875 5.96875 -4.265625 L 3.421875 -5 C 2.859375 -5.171875 2.703125 -5.28125 2.703125 -5.609375 C 2.703125 -6.03125 3.171875 -6.328125 3.875 -6.328125 C 4.84375 -6.328125 5.3125 -5.984375 5.328125 -5.265625 Z M 7.28125 -5.265625 \"/>\n",
       "</symbol>\n",
       "<symbol overflow=\"visible\" id=\"glyph2-16\">\n",
       "<path style=\"stroke:none;\" d=\"M 8.75 -7.296875 C 8.75 -8.265625 8.53125 -8.90625 8.015625 -9.484375 C 7.296875 -10.25 6.140625 -10.671875 4.625 -10.671875 C 2.109375 -10.671875 0.640625 -9.5 0.640625 -7.453125 C 0.640625 -5.8125 1.46875 -5.03125 3.59375 -4.625 L 5.078125 -4.34375 C 6.515625 -4.0625 7.046875 -3.65625 7.046875 -2.8125 C 7.046875 -1.9375 6.234375 -1.390625 4.921875 -1.390625 C 3.453125 -1.390625 2.640625 -2.015625 2.5625 -3.140625 L 0.46875 -3.140625 C 0.59375 -0.890625 2.125 0.328125 4.8125 0.328125 C 7.515625 0.328125 9.125 -0.9375 9.125 -3.0625 C 9.125 -4.71875 8.28125 -5.59375 6.34375 -5.96875 L 4.703125 -6.28125 C 3.15625 -6.578125 2.703125 -6.890625 2.703125 -7.65625 C 2.703125 -8.4375 3.421875 -8.953125 4.53125 -8.953125 C 5.890625 -8.953125 6.65625 -8.375 6.734375 -7.296875 Z M 8.75 -7.296875 \"/>\n",
       "</symbol>\n",
       "<symbol overflow=\"visible\" id=\"glyph2-17\">\n",
       "<path style=\"stroke:none;\" d=\"M 2.859375 -7.78125 L 0.828125 -7.78125 L 0.828125 3.140625 L 2.859375 3.140625 L 2.859375 -0.921875 C 3.34375 -0.0625 4.03125 0.34375 5.015625 0.34375 C 6.890625 0.34375 8.265625 -1.40625 8.265625 -3.78125 C 8.265625 -4.875 7.953125 -5.96875 7.4375 -6.6875 C 6.921875 -7.421875 5.953125 -7.90625 5.015625 -7.90625 C 4.03125 -7.90625 3.34375 -7.484375 2.859375 -6.625 Z M 4.546875 -6.21875 C 5.578125 -6.21875 6.25 -5.234375 6.25 -3.75 C 6.25 -2.328125 5.546875 -1.34375 4.546875 -1.34375 C 3.546875 -1.34375 2.859375 -2.3125 2.859375 -3.78125 C 2.859375 -5.234375 3.546875 -6.21875 4.546875 -6.21875 Z M 4.546875 -6.21875 \"/>\n",
       "</symbol>\n",
       "<symbol overflow=\"visible\" id=\"glyph2-18\">\n",
       "<path style=\"stroke:none;\" d=\"M 0.90625 -7.78125 L 0.90625 0 L 2.921875 0 L 2.921875 -4.140625 C 2.921875 -5.3125 3.515625 -5.90625 4.703125 -5.90625 C 4.90625 -5.90625 5.0625 -5.890625 5.328125 -5.84375 L 5.328125 -7.890625 C 5.21875 -7.90625 5.140625 -7.90625 5.078125 -7.90625 C 4.15625 -7.90625 3.359375 -7.296875 2.921875 -6.25 L 2.921875 -7.78125 Z M 0.90625 -7.78125 \"/>\n",
       "</symbol>\n",
       "<symbol overflow=\"visible\" id=\"glyph2-19\">\n",
       "<path style=\"stroke:none;\" d=\"M 2.984375 -7.78125 L 0.96875 -7.78125 L 0.96875 0 L 2.984375 0 Z M 2.984375 -10.5 L 0.96875 -10.5 L 0.96875 -8.703125 L 2.984375 -8.703125 Z M 2.984375 -10.5 \"/>\n",
       "</symbol>\n",
       "<symbol overflow=\"visible\" id=\"glyph2-20\">\n",
       "<path style=\"stroke:none;\" d=\"M 5.671875 -7.78125 L 4.0625 -2.125 L 2.34375 -7.78125 L 0.125 -7.78125 L 3.03125 0.3125 L 3.03125 0.375 C 3.03125 1.109375 2.484375 1.671875 1.765625 1.671875 C 1.609375 1.671875 1.5 1.65625 1.234375 1.578125 L 1.234375 3.09375 C 1.546875 3.140625 1.71875 3.15625 1.953125 3.15625 C 2.46875 3.15625 3.0625 3.046875 3.421875 2.90625 C 3.96875 2.671875 4.21875 2.34375 4.546875 1.421875 L 7.75 -7.78125 Z M 5.671875 -7.78125 \"/>\n",
       "</symbol>\n",
       "<symbol overflow=\"visible\" id=\"glyph2-21\">\n",
       "<path style=\"stroke:none;\" d=\"M 7.296875 -4.765625 L 7.296875 0 L 9.46875 0 L 9.46875 -10.5 L 7.296875 -10.5 L 7.296875 -6.5625 L 3.140625 -6.5625 L 3.140625 -10.5 L 0.984375 -10.5 L 0.984375 0 L 3.140625 0 L 3.140625 -4.765625 Z M 7.296875 -4.765625 \"/>\n",
       "</symbol>\n",
       "<symbol overflow=\"visible\" id=\"glyph2-22\">\n",
       "<path style=\"stroke:none;\" d=\"M 0.90625 -7.78125 L 0.90625 0 L 2.921875 0 L 2.921875 -4.671875 C 2.921875 -5.59375 3.578125 -6.1875 4.546875 -6.1875 C 5.421875 -6.1875 5.84375 -5.71875 5.84375 -4.796875 L 5.84375 0 L 7.859375 0 L 7.859375 -5.21875 C 7.859375 -6.921875 6.921875 -7.90625 5.265625 -7.90625 C 4.203125 -7.90625 3.5 -7.515625 2.921875 -6.65625 L 2.921875 -7.78125 Z M 0.90625 -7.78125 \"/>\n",
       "</symbol>\n",
       "<symbol overflow=\"visible\" id=\"glyph2-23\">\n",
       "<path style=\"stroke:none;\" d=\"M 5.875 -7.78125 L 5.875 -6.578125 C 5.265625 -7.5 4.609375 -7.90625 3.71875 -7.90625 C 1.875 -7.90625 0.484375 -6.109375 0.484375 -3.703125 C 0.484375 -1.28125 1.75 0.328125 3.671875 0.328125 C 4.578125 0.328125 5.125 0.0625 5.875 -0.796875 L 5.875 0.265625 C 5.875 1.203125 5.171875 1.84375 4.15625 1.84375 C 3.40625 1.84375 2.890625 1.53125 2.734375 0.9375 L 0.640625 0.9375 C 0.65625 1.546875 0.890625 1.953125 1.40625 2.390625 C 2.03125 2.890625 2.890625 3.140625 4.09375 3.140625 C 6.4375 3.140625 7.796875 2.09375 7.796875 0.265625 L 7.796875 -7.78125 Z M 4.15625 -6.21875 C 5.15625 -6.21875 5.90625 -5.171875 5.90625 -3.734375 C 5.90625 -2.3125 5.171875 -1.359375 4.125 -1.359375 C 3.171875 -1.359375 2.5 -2.3125 2.5 -3.734375 C 2.5 -5.203125 3.171875 -6.21875 4.15625 -6.21875 Z M 4.15625 -6.21875 \"/>\n",
       "</symbol>\n",
       "<symbol overflow=\"visible\" id=\"glyph2-24\">\n",
       "<path style=\"stroke:none;\" d=\"M 0.96875 -10.5 L 0.96875 0 L 2.984375 0 L 2.984375 -4.671875 C 2.984375 -5.5625 3.625 -6.1875 4.53125 -6.1875 C 4.96875 -6.1875 5.3125 -6.03125 5.546875 -5.71875 C 5.71875 -5.453125 5.78125 -5.265625 5.78125 -4.75 L 5.78125 0 L 7.796875 0 L 7.796875 -5.21875 C 7.796875 -6.1875 7.53125 -6.875 7 -7.3125 C 6.5625 -7.6875 5.90625 -7.90625 5.265625 -7.90625 C 4.265625 -7.90625 3.546875 -7.5 2.984375 -6.65625 L 2.984375 -10.5 Z M 0.96875 -10.5 \"/>\n",
       "</symbol>\n",
       "</g>\n",
       "</defs>\n",
       "<g id=\"surface72\">\n",
       "<rect x=\"0\" y=\"0\" width=\"504\" height=\"504\" style=\"fill:rgb(100%,100%,100%);fill-opacity:1;stroke:none;\"/>\n",
       "<path style=\"fill:none;stroke-width:0.75;stroke-linecap:round;stroke-linejoin:round;stroke:rgb(0%,0%,0%);stroke-opacity:1;stroke-miterlimit:10;\" d=\"M 74.398438 72.800781 L 78.277344 239.84375 L 82.15625 314.355469 L 86.035156 347.453125 L 89.914062 367.070312 L 93.792969 380.253906 L 97.671875 389.507812 L 101.550781 396.605469 L 105.429688 401.347656 L 109.308594 405.273438 L 113.1875 407.925781 L 117.066406 410.058594 L 120.945312 411.441406 L 124.824219 412.515625 L 128.703125 413.347656 L 132.582031 413.976562 L 136.460938 414.457031 L 140.339844 414.78125 L 144.21875 415.097656 L 148.097656 415.382812 L 151.976562 415.582031 L 155.855469 415.742188 L 159.734375 415.898438 L 163.613281 416.007812 L 167.492188 416.105469 L 171.371094 416.160156 L 175.25 416.230469 L 179.128906 416.304688 L 183.007812 416.375 L 186.886719 416.429688 L 190.761719 416.484375 L 194.640625 416.496094 L 198.519531 416.53125 L 202.398438 416.558594 L 206.277344 416.574219 L 210.15625 416.601562 L 214.035156 416.613281 L 217.914062 416.628906 L 221.792969 416.648438 L 225.671875 416.65625 L 229.550781 416.683594 L 233.429688 416.695312 L 237.308594 416.703125 L 248.945312 416.738281 L 252.824219 416.746094 L 256.703125 416.75 L 260.582031 416.765625 L 264.460938 416.769531 L 268.339844 416.785156 L 291.613281 416.785156 L 295.492188 416.789062 L 299.371094 416.789062 L 303.25 416.796875 L 334.277344 416.796875 L 338.15625 416.800781 L 458.398438 416.800781 \"/>\n",
       "<path style=\"fill:none;stroke-width:0.75;stroke-linecap:round;stroke-linejoin:round;stroke:rgb(0%,0%,0%);stroke-opacity:1;stroke-miterlimit:10;\" d=\"M 70.519531 430.558594 L 458.398438 430.558594 \"/>\n",
       "<path style=\"fill:none;stroke-width:0.75;stroke-linecap:round;stroke-linejoin:round;stroke:rgb(0%,0%,0%);stroke-opacity:1;stroke-miterlimit:10;\" d=\"M 70.519531 430.558594 L 70.519531 437.761719 \"/>\n",
       "<path style=\"fill:none;stroke-width:0.75;stroke-linecap:round;stroke-linejoin:round;stroke:rgb(0%,0%,0%);stroke-opacity:1;stroke-miterlimit:10;\" d=\"M 148.097656 430.558594 L 148.097656 437.761719 \"/>\n",
       "<path style=\"fill:none;stroke-width:0.75;stroke-linecap:round;stroke-linejoin:round;stroke:rgb(0%,0%,0%);stroke-opacity:1;stroke-miterlimit:10;\" d=\"M 225.671875 430.558594 L 225.671875 437.761719 \"/>\n",
       "<path style=\"fill:none;stroke-width:0.75;stroke-linecap:round;stroke-linejoin:round;stroke:rgb(0%,0%,0%);stroke-opacity:1;stroke-miterlimit:10;\" d=\"M 303.25 430.558594 L 303.25 437.761719 \"/>\n",
       "<path style=\"fill:none;stroke-width:0.75;stroke-linecap:round;stroke-linejoin:round;stroke:rgb(0%,0%,0%);stroke-opacity:1;stroke-miterlimit:10;\" d=\"M 380.824219 430.558594 L 380.824219 437.761719 \"/>\n",
       "<path style=\"fill:none;stroke-width:0.75;stroke-linecap:round;stroke-linejoin:round;stroke:rgb(0%,0%,0%);stroke-opacity:1;stroke-miterlimit:10;\" d=\"M 458.398438 430.558594 L 458.398438 437.761719 \"/>\n",
       "<g style=\"fill:rgb(0%,0%,0%);fill-opacity:1;\">\n",
       "  <use xlink:href=\"#glyph0-1\" x=\"62.019531\" y=\"455.916016\"/>\n",
       "  <use xlink:href=\"#glyph0-2\" x=\"68.691406\" y=\"455.916016\"/>\n",
       "  <use xlink:href=\"#glyph0-1\" x=\"72.027344\" y=\"455.916016\"/>\n",
       "</g>\n",
       "<g style=\"fill:rgb(0%,0%,0%);fill-opacity:1;\">\n",
       "  <use xlink:href=\"#glyph0-1\" x=\"139.597656\" y=\"455.916016\"/>\n",
       "  <use xlink:href=\"#glyph0-2\" x=\"146.269531\" y=\"455.916016\"/>\n",
       "  <use xlink:href=\"#glyph0-3\" x=\"149.605469\" y=\"455.916016\"/>\n",
       "</g>\n",
       "<g style=\"fill:rgb(0%,0%,0%);fill-opacity:1;\">\n",
       "  <use xlink:href=\"#glyph0-1\" x=\"217.171875\" y=\"455.916016\"/>\n",
       "  <use xlink:href=\"#glyph0-2\" x=\"223.84375\" y=\"455.916016\"/>\n",
       "  <use xlink:href=\"#glyph0-4\" x=\"227.179688\" y=\"455.916016\"/>\n",
       "</g>\n",
       "<g style=\"fill:rgb(0%,0%,0%);fill-opacity:1;\">\n",
       "  <use xlink:href=\"#glyph0-1\" x=\"294.75\" y=\"455.916016\"/>\n",
       "  <use xlink:href=\"#glyph0-2\" x=\"301.421875\" y=\"455.916016\"/>\n",
       "  <use xlink:href=\"#glyph0-5\" x=\"304.757812\" y=\"455.916016\"/>\n",
       "</g>\n",
       "<g style=\"fill:rgb(0%,0%,0%);fill-opacity:1;\">\n",
       "  <use xlink:href=\"#glyph0-1\" x=\"372.324219\" y=\"455.916016\"/>\n",
       "  <use xlink:href=\"#glyph0-2\" x=\"378.996094\" y=\"455.916016\"/>\n",
       "  <use xlink:href=\"#glyph0-6\" x=\"382.332031\" y=\"455.916016\"/>\n",
       "</g>\n",
       "<g style=\"fill:rgb(0%,0%,0%);fill-opacity:1;\">\n",
       "  <use xlink:href=\"#glyph0-7\" x=\"449.898438\" y=\"455.916016\"/>\n",
       "  <use xlink:href=\"#glyph0-2\" x=\"456.570312\" y=\"455.916016\"/>\n",
       "  <use xlink:href=\"#glyph0-1\" x=\"459.90625\" y=\"455.916016\"/>\n",
       "</g>\n",
       "<path style=\"fill:none;stroke-width:0.75;stroke-linecap:round;stroke-linejoin:round;stroke:rgb(0%,0%,0%);stroke-opacity:1;stroke-miterlimit:10;\" d=\"M 59.039062 416.800781 L 59.039062 104.375 \"/>\n",
       "<path style=\"fill:none;stroke-width:0.75;stroke-linecap:round;stroke-linejoin:round;stroke:rgb(0%,0%,0%);stroke-opacity:1;stroke-miterlimit:10;\" d=\"M 59.039062 416.800781 L 51.839844 416.800781 \"/>\n",
       "<path style=\"fill:none;stroke-width:0.75;stroke-linecap:round;stroke-linejoin:round;stroke:rgb(0%,0%,0%);stroke-opacity:1;stroke-miterlimit:10;\" d=\"M 59.039062 354.316406 L 51.839844 354.316406 \"/>\n",
       "<path style=\"fill:none;stroke-width:0.75;stroke-linecap:round;stroke-linejoin:round;stroke:rgb(0%,0%,0%);stroke-opacity:1;stroke-miterlimit:10;\" d=\"M 59.039062 291.828125 L 51.839844 291.828125 \"/>\n",
       "<path style=\"fill:none;stroke-width:0.75;stroke-linecap:round;stroke-linejoin:round;stroke:rgb(0%,0%,0%);stroke-opacity:1;stroke-miterlimit:10;\" d=\"M 59.039062 229.34375 L 51.839844 229.34375 \"/>\n",
       "<path style=\"fill:none;stroke-width:0.75;stroke-linecap:round;stroke-linejoin:round;stroke:rgb(0%,0%,0%);stroke-opacity:1;stroke-miterlimit:10;\" d=\"M 59.039062 166.859375 L 51.839844 166.859375 \"/>\n",
       "<path style=\"fill:none;stroke-width:0.75;stroke-linecap:round;stroke-linejoin:round;stroke:rgb(0%,0%,0%);stroke-opacity:1;stroke-miterlimit:10;\" d=\"M 59.039062 104.375 L 51.839844 104.375 \"/>\n",
       "<g style=\"fill:rgb(0%,0%,0%);fill-opacity:1;\">\n",
       "  <use xlink:href=\"#glyph1-1\" x=\"41.197266\" y=\"425.300781\"/>\n",
       "  <use xlink:href=\"#glyph1-2\" x=\"41.197266\" y=\"418.628906\"/>\n",
       "  <use xlink:href=\"#glyph1-1\" x=\"41.197266\" y=\"415.292969\"/>\n",
       "</g>\n",
       "<g style=\"fill:rgb(0%,0%,0%);fill-opacity:1;\">\n",
       "  <use xlink:href=\"#glyph1-1\" x=\"41.197266\" y=\"362.816406\"/>\n",
       "  <use xlink:href=\"#glyph1-2\" x=\"41.197266\" y=\"356.144531\"/>\n",
       "  <use xlink:href=\"#glyph1-3\" x=\"41.197266\" y=\"352.808594\"/>\n",
       "</g>\n",
       "<g style=\"fill:rgb(0%,0%,0%);fill-opacity:1;\">\n",
       "  <use xlink:href=\"#glyph1-1\" x=\"41.197266\" y=\"300.328125\"/>\n",
       "  <use xlink:href=\"#glyph1-2\" x=\"41.197266\" y=\"293.65625\"/>\n",
       "  <use xlink:href=\"#glyph1-4\" x=\"41.197266\" y=\"290.320312\"/>\n",
       "</g>\n",
       "<g style=\"fill:rgb(0%,0%,0%);fill-opacity:1;\">\n",
       "  <use xlink:href=\"#glyph1-1\" x=\"41.197266\" y=\"237.84375\"/>\n",
       "  <use xlink:href=\"#glyph1-2\" x=\"41.197266\" y=\"231.171875\"/>\n",
       "  <use xlink:href=\"#glyph1-5\" x=\"41.197266\" y=\"227.835938\"/>\n",
       "</g>\n",
       "<g style=\"fill:rgb(0%,0%,0%);fill-opacity:1;\">\n",
       "  <use xlink:href=\"#glyph1-1\" x=\"41.197266\" y=\"175.359375\"/>\n",
       "  <use xlink:href=\"#glyph1-2\" x=\"41.197266\" y=\"168.6875\"/>\n",
       "  <use xlink:href=\"#glyph1-6\" x=\"41.197266\" y=\"165.351562\"/>\n",
       "</g>\n",
       "<g style=\"fill:rgb(0%,0%,0%);fill-opacity:1;\">\n",
       "  <use xlink:href=\"#glyph1-1\" x=\"41.197266\" y=\"112.875\"/>\n",
       "  <use xlink:href=\"#glyph1-2\" x=\"41.197266\" y=\"106.203125\"/>\n",
       "  <use xlink:href=\"#glyph1-7\" x=\"41.197266\" y=\"102.867188\"/>\n",
       "</g>\n",
       "<path style=\"fill:none;stroke-width:0.75;stroke-linecap:round;stroke-linejoin:round;stroke:rgb(0%,0%,0%);stroke-opacity:1;stroke-miterlimit:10;\" d=\"M 59.039062 430.558594 L 473.761719 430.558594 L 473.761719 59.039062 L 59.039062 59.039062 L 59.039062 430.558594 \"/>\n",
       "<g style=\"fill:rgb(0%,0%,0%);fill-opacity:1;\">\n",
       "  <use xlink:href=\"#glyph2-1\" x=\"94.398438\" y=\"34.116211\"/>\n",
       "  <use xlink:href=\"#glyph2-2\" x=\"104.007812\" y=\"34.116211\"/>\n",
       "  <use xlink:href=\"#glyph2-3\" x=\"108.012695\" y=\"34.116211\"/>\n",
       "  <use xlink:href=\"#glyph2-4\" x=\"116.814453\" y=\"34.116211\"/>\n",
       "  <use xlink:href=\"#glyph2-5\" x=\"121.611328\" y=\"34.116211\"/>\n",
       "  <use xlink:href=\"#glyph2-3\" x=\"125.616211\" y=\"34.116211\"/>\n",
       "  <use xlink:href=\"#glyph2-6\" x=\"134.417969\" y=\"34.116211\"/>\n",
       "  <use xlink:href=\"#glyph2-5\" x=\"139.214844\" y=\"34.116211\"/>\n",
       "  <use xlink:href=\"#glyph2-7\" x=\"143.219727\" y=\"34.116211\"/>\n",
       "  <use xlink:href=\"#glyph2-8\" x=\"152.021484\" y=\"34.116211\"/>\n",
       "  <use xlink:href=\"#glyph2-9\" x=\"160.03125\" y=\"34.116211\"/>\n",
       "  <use xlink:href=\"#glyph2-10\" x=\"172.837891\" y=\"34.116211\"/>\n",
       "  <use xlink:href=\"#glyph2-11\" x=\"181.639648\" y=\"34.116211\"/>\n",
       "  <use xlink:href=\"#glyph2-8\" x=\"190.441406\" y=\"34.116211\"/>\n",
       "  <use xlink:href=\"#glyph2-5\" x=\"198.451172\" y=\"34.116211\"/>\n",
       "  <use xlink:href=\"#glyph2-12\" x=\"202.456055\" y=\"34.116211\"/>\n",
       "  <use xlink:href=\"#glyph2-13\" x=\"210.46582\" y=\"34.116211\"/>\n",
       "  <use xlink:href=\"#glyph2-4\" x=\"219.267578\" y=\"34.116211\"/>\n",
       "  <use xlink:href=\"#glyph2-3\" x=\"224.064453\" y=\"34.116211\"/>\n",
       "  <use xlink:href=\"#glyph2-6\" x=\"232.866211\" y=\"34.116211\"/>\n",
       "  <use xlink:href=\"#glyph2-6\" x=\"237.663086\" y=\"34.116211\"/>\n",
       "  <use xlink:href=\"#glyph2-5\" x=\"242.459961\" y=\"34.116211\"/>\n",
       "  <use xlink:href=\"#glyph2-14\" x=\"246.464844\" y=\"34.116211\"/>\n",
       "  <use xlink:href=\"#glyph2-15\" x=\"254.474609\" y=\"34.116211\"/>\n",
       "  <use xlink:href=\"#glyph2-5\" x=\"262.484375\" y=\"34.116211\"/>\n",
       "  <use xlink:href=\"#glyph2-16\" x=\"266.489258\" y=\"34.116211\"/>\n",
       "  <use xlink:href=\"#glyph2-17\" x=\"276.098633\" y=\"34.116211\"/>\n",
       "  <use xlink:href=\"#glyph2-8\" x=\"284.900391\" y=\"34.116211\"/>\n",
       "  <use xlink:href=\"#glyph2-18\" x=\"292.910156\" y=\"34.116211\"/>\n",
       "  <use xlink:href=\"#glyph2-12\" x=\"298.514648\" y=\"34.116211\"/>\n",
       "  <use xlink:href=\"#glyph2-19\" x=\"306.524414\" y=\"34.116211\"/>\n",
       "  <use xlink:href=\"#glyph2-4\" x=\"310.529297\" y=\"34.116211\"/>\n",
       "  <use xlink:href=\"#glyph2-20\" x=\"315.326172\" y=\"34.116211\"/>\n",
       "  <use xlink:href=\"#glyph2-5\" x=\"323.335938\" y=\"34.116211\"/>\n",
       "  <use xlink:href=\"#glyph2-3\" x=\"327.34082\" y=\"34.116211\"/>\n",
       "  <use xlink:href=\"#glyph2-6\" x=\"336.142578\" y=\"34.116211\"/>\n",
       "  <use xlink:href=\"#glyph2-5\" x=\"340.939453\" y=\"34.116211\"/>\n",
       "  <use xlink:href=\"#glyph2-21\" x=\"344.944336\" y=\"34.116211\"/>\n",
       "  <use xlink:href=\"#glyph2-13\" x=\"355.345703\" y=\"34.116211\"/>\n",
       "  <use xlink:href=\"#glyph2-9\" x=\"364.147461\" y=\"34.116211\"/>\n",
       "  <use xlink:href=\"#glyph2-8\" x=\"376.954102\" y=\"34.116211\"/>\n",
       "  <use xlink:href=\"#glyph2-22\" x=\"384.963867\" y=\"34.116211\"/>\n",
       "  <use xlink:href=\"#glyph2-5\" x=\"393.765625\" y=\"34.116211\"/>\n",
       "  <use xlink:href=\"#glyph2-23\" x=\"397.770508\" y=\"34.116211\"/>\n",
       "  <use xlink:href=\"#glyph2-18\" x=\"406.572266\" y=\"34.116211\"/>\n",
       "  <use xlink:href=\"#glyph2-8\" x=\"412.176758\" y=\"34.116211\"/>\n",
       "  <use xlink:href=\"#glyph2-17\" x=\"420.186523\" y=\"34.116211\"/>\n",
       "  <use xlink:href=\"#glyph2-24\" x=\"428.988281\" y=\"34.116211\"/>\n",
       "</g>\n",
       "<g style=\"fill:rgb(0%,0%,0%);fill-opacity:1;\">\n",
       "  <use xlink:href=\"#glyph0-8\" x=\"244.398438\" y=\"484.716797\"/>\n",
       "  <use xlink:href=\"#glyph0-9\" x=\"251.070312\" y=\"484.716797\"/>\n",
       "  <use xlink:href=\"#glyph0-10\" x=\"257.742188\" y=\"484.716797\"/>\n",
       "  <use xlink:href=\"#glyph0-11\" x=\"267.738281\" y=\"484.716797\"/>\n",
       "  <use xlink:href=\"#glyph0-12\" x=\"274.410156\" y=\"484.716797\"/>\n",
       "  <use xlink:href=\"#glyph0-9\" x=\"281.082031\" y=\"484.716797\"/>\n",
       "</g>\n",
       "<g style=\"fill:rgb(0%,0%,0%);fill-opacity:1;\">\n",
       "  <use xlink:href=\"#glyph1-8\" x=\"12.396484\" y=\"291.800781\"/>\n",
       "  <use xlink:href=\"#glyph1-9\" x=\"12.396484\" y=\"283.796875\"/>\n",
       "  <use xlink:href=\"#glyph1-10\" x=\"12.396484\" y=\"277.125\"/>\n",
       "  <use xlink:href=\"#glyph1-11\" x=\"12.396484\" y=\"270.453125\"/>\n",
       "  <use xlink:href=\"#glyph1-12\" x=\"12.396484\" y=\"266.457031\"/>\n",
       "  <use xlink:href=\"#glyph1-13\" x=\"12.396484\" y=\"260.457031\"/>\n",
       "  <use xlink:href=\"#glyph1-14\" x=\"12.396484\" y=\"257.792969\"/>\n",
       "  <use xlink:href=\"#glyph1-15\" x=\"12.396484\" y=\"254.457031\"/>\n",
       "  <use xlink:href=\"#glyph1-16\" x=\"12.396484\" y=\"248.457031\"/>\n",
       "  <use xlink:href=\"#glyph1-17\" x=\"12.396484\" y=\"245.121094\"/>\n",
       "  <use xlink:href=\"#glyph1-18\" x=\"12.396484\" y=\"238.449219\"/>\n",
       "  <use xlink:href=\"#glyph1-16\" x=\"12.396484\" y=\"235.113281\"/>\n",
       "  <use xlink:href=\"#glyph1-17\" x=\"12.396484\" y=\"231.777344\"/>\n",
       "  <use xlink:href=\"#glyph1-19\" x=\"12.396484\" y=\"225.105469\"/>\n",
       "  <use xlink:href=\"#glyph1-14\" x=\"12.396484\" y=\"218.433594\"/>\n",
       "  <use xlink:href=\"#glyph1-9\" x=\"12.396484\" y=\"215.097656\"/>\n",
       "  <use xlink:href=\"#glyph1-19\" x=\"12.396484\" y=\"208.425781\"/>\n",
       "  <use xlink:href=\"#glyph1-14\" x=\"12.396484\" y=\"201.753906\"/>\n",
       "</g>\n",
       "</g>\n",
       "</svg>\n"
      ],
      "text/plain": [
       "Plot with title “Plot of Lambda cutoff vs Sparcity of Human graph”"
      ]
     },
     "metadata": {
      "image/svg+xml": {
       "isolated": true
      }
     },
     "output_type": "display_data"
    }
   ],
   "source": [
    "plot(lambdas,graphModel$sparsity,type='l',main=\"Plot of Lambda cutoff vs Sparcity of Human graph\",xlab=\"Lambda\", ylab = \"Sparsity of output\")"
   ]
  },
  {
   "cell_type": "code",
   "execution_count": 13,
   "metadata": {
    "collapsed": false
   },
   "outputs": [
    {
     "name": "stdout",
     "output_type": "stream",
     "text": [
      "[1] 500 500\n"
     ]
    }
   ],
   "source": [
    "print(dim(graphModel$icov[[1]]))"
   ]
  }
 ],
 "metadata": {
  "kernelspec": {
   "display_name": "R",
   "language": "R",
   "name": "ir"
  },
  "language_info": {
   "codemirror_mode": "r",
   "file_extension": ".r",
   "mimetype": "text/x-r-source",
   "name": "R",
   "pygments_lexer": "r",
   "version": "3.2.3"
  }
 },
 "nbformat": 4,
 "nbformat_minor": 0
}
